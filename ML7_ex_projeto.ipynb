{
  "nbformat": 4,
  "nbformat_minor": 0,
  "metadata": {
    "kernelspec": {
      "display_name": "Python 3",
      "language": "python",
      "name": "python3"
    },
    "language_info": {
      "codemirror_mode": {
        "name": "ipython",
        "version": 3
      },
      "file_extension": ".py",
      "mimetype": "text/x-python",
      "name": "python",
      "nbconvert_exporter": "python",
      "pygments_lexer": "ipython3",
      "version": "3.7.4"
    },
    "colab": {
      "name": "ML7_ex_projeto.ipynb",
      "provenance": [],
      "toc_visible": true,
      "include_colab_link": true
    }
  },
  "cells": [
    {
      "cell_type": "markdown",
      "metadata": {
        "id": "view-in-github",
        "colab_type": "text"
      },
      "source": [
        "<a href=\"https://colab.research.google.com/github/ju-arauj/swot/blob/master/ML7_ex_projeto.ipynb\" target=\"_parent\"><img src=\"https://colab.research.google.com/assets/colab-badge.svg\" alt=\"Open In Colab\"/></a>"
      ]
    },
    {
      "cell_type": "markdown",
      "metadata": {
        "id": "40b90843"
      },
      "source": [
        "<img src=\"http://meusite.mackenzie.br/rogerio/mackenzie_logo/UPM.2_horizontal_vermelho.jpg\"  width=300, align=\"right\">\n",
        "<br>\n",
        "<br>\n",
        "<br>\n",
        "<br>\n",
        "<br>\n",
        "\n",
        "# ***Proficiência em matemática de alunos do quinto do ensino fundamental com base em variáveis da base de dados do SAEB***\n",
        "---"
      ]
    },
    {
      "cell_type": "code",
      "metadata": {
        "id": "rYx9D4GZA5o9",
        "cellView": "form"
      },
      "source": [
        "#@title Identificação do Grupo\n",
        "\n",
        "#@markdown Integrantes do Grupo (*informe \\<TIA\\>,\\<nome\\>*)\n",
        "Aluno1 = '10444671, Julia Raissa Silva de Araujo' #@param {type:\"string\"}\n",
        "Aluno2 = '10441586, Mariana Silva de Oliveira' #@param {type:\"string\"}\n",
        "Aluno3 = 'None' #@param {type:\"string\"}\n",
        "Aluno4 = 'None' #@param {type:\"string\"}\n",
        "Aluno5 = 'None' #@param {type:\"string\"}\n",
        "\n"
      ],
      "execution_count": 15,
      "outputs": []
    },
    {
      "cell_type": "markdown",
      "source": [
        "# **Apresentação**"
      ],
      "metadata": {
        "id": "JlCIc2YooBW7"
      }
    },
    {
      "cell_type": "markdown",
      "metadata": {
        "id": "A4-f8AtfKAn2"
      },
      "source": [
        "# Problema\n",
        "\n",
        "*É possível prever o desempenho em matemática de um aluno do quinto com base em quanto tempo ele se dedica ao estudo, se os pais o incentivam a estudar, no gênero e na etnia deste aluno ou no grau de escolaridade dos pais dele? Propomos o desafio de responder a essa pergunta utlizando a base de dados do Sistema de Avaliação da Educação Básica (SAEB), que traz dados socioeconômicos dos alunos do quinto ano do EF que realizaram as avaliações do SAEB, além do desempenho deles em matemática..*\n",
        "\n"
      ]
    },
    {
      "cell_type": "markdown",
      "source": [
        "# Referencial Teórico\n",
        "\n",
        "*Utilizados o livro Python para Data Science, de Amilcar Netto e Francisco Maciel como aporte teórico neste projeto. Nesta obra, os autores apresentam teoricamente os modelos de aprendizado de máquina e fornecem exemplos de como aplicá-los.*"
      ],
      "metadata": {
        "id": "7LtXrRFr4hg3"
      }
    },
    {
      "cell_type": "markdown",
      "metadata": {
        "id": "7-pdJIiunIWL"
      },
      "source": [
        "# Metodologia\n",
        "\n",
        "*Apresente e discuta a abordagem de solução empregada. Discuta os dados empregados, tratamento efetuados, variáveis preditoras e objetivo, técnicas empregadas.*\n",
        "\n"
      ]
    },
    {
      "cell_type": "markdown",
      "source": [
        "# Resultados\n",
        "\n",
        "*Resuma aqui os resultados, principalmente incluindo tabelas e esquemas necessários.*"
      ],
      "metadata": {
        "id": "ZGpU-v6CnTaG"
      }
    },
    {
      "cell_type": "markdown",
      "source": [
        "# **Implementação**"
      ],
      "metadata": {
        "id": "caAD2jBEn0KM"
      }
    },
    {
      "cell_type": "markdown",
      "metadata": {
        "id": "xGFJyOm1Kdtd"
      },
      "source": [
        "# Base de Dados\n",
        "\n",
        "*Descreva aqui os dados utilizados, discuta eventuais transformações e/ou seleções dos dados e preparações nos dados.*\n",
        "\n",
        "\n"
      ]
    },
    {
      "cell_type": "code",
      "source": [
        "import pandas as pd\n",
        "import matplotlib.pyplot as plt\n",
        "import seaborn as sns\n",
        "import numpy as np\n",
        "from sklearn.preprocessing import OneHotEncoder\n",
        "from sklearn.linear_model import LogisticRegression\n",
        "from sklearn.tree import DecisionTreeClassifier\n",
        "from sklearn.model_selection import train_test_split\n",
        "from sklearn.metrics import confusion_matrix, accuracy_score, classification_report"
      ],
      "metadata": {
        "id": "V_X2jqpl3UWA"
      },
      "execution_count": 16,
      "outputs": []
    },
    {
      "cell_type": "code",
      "source": [
        "#carregando o dataset\n",
        "df = pd.read_csv('/content/drive/MyDrive/TS_ALUNO_5EF.csv', sep = ';')\n",
        "display(df.head())\n",
        "display(df.shape)\n",
        "display(df.duplicated().sum())"
      ],
      "metadata": {
        "id": "MF7KpQTCVY8J",
        "outputId": "12d13293-f1c3-4c1d-82cc-6187e0d37d9d",
        "colab": {
          "base_uri": "https://localhost:8080/",
          "height": 291
        }
      },
      "execution_count": 17,
      "outputs": [
        {
          "output_type": "display_data",
          "data": {
            "text/plain": [
              "   ID_SAEB  ID_REGIAO  ID_UF  ID_MUNICIPIO  ID_AREA  ID_ESCOLA  IN_PUBLICA  \\\n",
              "0     2021          1     11       6316600        2   61324549           1   \n",
              "1     2021          1     11       6316600        2   61324549           1   \n",
              "2     2021          1     11       6316600        2   61324549           1   \n",
              "3     2021          1     11       6316600        2   61324549           1   \n",
              "4     2021          1     11       6316600        2   61324549           1   \n",
              "\n",
              "   ID_LOCALIZACAO  ID_TURMA  ID_SERIE  ...  TX_RESP_Q20e  TX_RESP_Q21a  \\\n",
              "0               1   1324376         5  ...             D             D   \n",
              "1               1   1324376         5  ...             .             .   \n",
              "2               1   1324376         5  ...             .             .   \n",
              "3               1   1324376         5  ...             B             *   \n",
              "4               1   1324376         5  ...             C             C   \n",
              "\n",
              "   TX_RESP_Q21b  TX_RESP_Q21c  TX_RESP_Q21d  TX_RESP_Q21e  TX_RESP_Q21f  \\\n",
              "0             D             D             D             D             D   \n",
              "1             .             .             .             .             .   \n",
              "2             .             .             .             .             .   \n",
              "3             C             B             C             *             C   \n",
              "4             D             A             D             C             B   \n",
              "\n",
              "   TX_RESP_Q21g  TX_RESP_Q21h  TX_RESP_Q21i  \n",
              "0             D             D             D  \n",
              "1             .             .             .  \n",
              "2             .             .             .  \n",
              "3             C             D             C  \n",
              "4             C             D             A  \n",
              "\n",
              "[5 rows x 104 columns]"
            ],
            "text/html": [
              "\n",
              "  <div id=\"df-08233e64-cc17-49cb-a179-1bd9cd096875\" class=\"colab-df-container\">\n",
              "    <div>\n",
              "<style scoped>\n",
              "    .dataframe tbody tr th:only-of-type {\n",
              "        vertical-align: middle;\n",
              "    }\n",
              "\n",
              "    .dataframe tbody tr th {\n",
              "        vertical-align: top;\n",
              "    }\n",
              "\n",
              "    .dataframe thead th {\n",
              "        text-align: right;\n",
              "    }\n",
              "</style>\n",
              "<table border=\"1\" class=\"dataframe\">\n",
              "  <thead>\n",
              "    <tr style=\"text-align: right;\">\n",
              "      <th></th>\n",
              "      <th>ID_SAEB</th>\n",
              "      <th>ID_REGIAO</th>\n",
              "      <th>ID_UF</th>\n",
              "      <th>ID_MUNICIPIO</th>\n",
              "      <th>ID_AREA</th>\n",
              "      <th>ID_ESCOLA</th>\n",
              "      <th>IN_PUBLICA</th>\n",
              "      <th>ID_LOCALIZACAO</th>\n",
              "      <th>ID_TURMA</th>\n",
              "      <th>ID_SERIE</th>\n",
              "      <th>...</th>\n",
              "      <th>TX_RESP_Q20e</th>\n",
              "      <th>TX_RESP_Q21a</th>\n",
              "      <th>TX_RESP_Q21b</th>\n",
              "      <th>TX_RESP_Q21c</th>\n",
              "      <th>TX_RESP_Q21d</th>\n",
              "      <th>TX_RESP_Q21e</th>\n",
              "      <th>TX_RESP_Q21f</th>\n",
              "      <th>TX_RESP_Q21g</th>\n",
              "      <th>TX_RESP_Q21h</th>\n",
              "      <th>TX_RESP_Q21i</th>\n",
              "    </tr>\n",
              "  </thead>\n",
              "  <tbody>\n",
              "    <tr>\n",
              "      <th>0</th>\n",
              "      <td>2021</td>\n",
              "      <td>1</td>\n",
              "      <td>11</td>\n",
              "      <td>6316600</td>\n",
              "      <td>2</td>\n",
              "      <td>61324549</td>\n",
              "      <td>1</td>\n",
              "      <td>1</td>\n",
              "      <td>1324376</td>\n",
              "      <td>5</td>\n",
              "      <td>...</td>\n",
              "      <td>D</td>\n",
              "      <td>D</td>\n",
              "      <td>D</td>\n",
              "      <td>D</td>\n",
              "      <td>D</td>\n",
              "      <td>D</td>\n",
              "      <td>D</td>\n",
              "      <td>D</td>\n",
              "      <td>D</td>\n",
              "      <td>D</td>\n",
              "    </tr>\n",
              "    <tr>\n",
              "      <th>1</th>\n",
              "      <td>2021</td>\n",
              "      <td>1</td>\n",
              "      <td>11</td>\n",
              "      <td>6316600</td>\n",
              "      <td>2</td>\n",
              "      <td>61324549</td>\n",
              "      <td>1</td>\n",
              "      <td>1</td>\n",
              "      <td>1324376</td>\n",
              "      <td>5</td>\n",
              "      <td>...</td>\n",
              "      <td>.</td>\n",
              "      <td>.</td>\n",
              "      <td>.</td>\n",
              "      <td>.</td>\n",
              "      <td>.</td>\n",
              "      <td>.</td>\n",
              "      <td>.</td>\n",
              "      <td>.</td>\n",
              "      <td>.</td>\n",
              "      <td>.</td>\n",
              "    </tr>\n",
              "    <tr>\n",
              "      <th>2</th>\n",
              "      <td>2021</td>\n",
              "      <td>1</td>\n",
              "      <td>11</td>\n",
              "      <td>6316600</td>\n",
              "      <td>2</td>\n",
              "      <td>61324549</td>\n",
              "      <td>1</td>\n",
              "      <td>1</td>\n",
              "      <td>1324376</td>\n",
              "      <td>5</td>\n",
              "      <td>...</td>\n",
              "      <td>.</td>\n",
              "      <td>.</td>\n",
              "      <td>.</td>\n",
              "      <td>.</td>\n",
              "      <td>.</td>\n",
              "      <td>.</td>\n",
              "      <td>.</td>\n",
              "      <td>.</td>\n",
              "      <td>.</td>\n",
              "      <td>.</td>\n",
              "    </tr>\n",
              "    <tr>\n",
              "      <th>3</th>\n",
              "      <td>2021</td>\n",
              "      <td>1</td>\n",
              "      <td>11</td>\n",
              "      <td>6316600</td>\n",
              "      <td>2</td>\n",
              "      <td>61324549</td>\n",
              "      <td>1</td>\n",
              "      <td>1</td>\n",
              "      <td>1324376</td>\n",
              "      <td>5</td>\n",
              "      <td>...</td>\n",
              "      <td>B</td>\n",
              "      <td>*</td>\n",
              "      <td>C</td>\n",
              "      <td>B</td>\n",
              "      <td>C</td>\n",
              "      <td>*</td>\n",
              "      <td>C</td>\n",
              "      <td>C</td>\n",
              "      <td>D</td>\n",
              "      <td>C</td>\n",
              "    </tr>\n",
              "    <tr>\n",
              "      <th>4</th>\n",
              "      <td>2021</td>\n",
              "      <td>1</td>\n",
              "      <td>11</td>\n",
              "      <td>6316600</td>\n",
              "      <td>2</td>\n",
              "      <td>61324549</td>\n",
              "      <td>1</td>\n",
              "      <td>1</td>\n",
              "      <td>1324376</td>\n",
              "      <td>5</td>\n",
              "      <td>...</td>\n",
              "      <td>C</td>\n",
              "      <td>C</td>\n",
              "      <td>D</td>\n",
              "      <td>A</td>\n",
              "      <td>D</td>\n",
              "      <td>C</td>\n",
              "      <td>B</td>\n",
              "      <td>C</td>\n",
              "      <td>D</td>\n",
              "      <td>A</td>\n",
              "    </tr>\n",
              "  </tbody>\n",
              "</table>\n",
              "<p>5 rows × 104 columns</p>\n",
              "</div>\n",
              "    <div class=\"colab-df-buttons\">\n",
              "\n",
              "  <div class=\"colab-df-container\">\n",
              "    <button class=\"colab-df-convert\" onclick=\"convertToInteractive('df-08233e64-cc17-49cb-a179-1bd9cd096875')\"\n",
              "            title=\"Convert this dataframe to an interactive table.\"\n",
              "            style=\"display:none;\">\n",
              "\n",
              "  <svg xmlns=\"http://www.w3.org/2000/svg\" height=\"24px\" viewBox=\"0 -960 960 960\">\n",
              "    <path d=\"M120-120v-720h720v720H120Zm60-500h600v-160H180v160Zm220 220h160v-160H400v160Zm0 220h160v-160H400v160ZM180-400h160v-160H180v160Zm440 0h160v-160H620v160ZM180-180h160v-160H180v160Zm440 0h160v-160H620v160Z\"/>\n",
              "  </svg>\n",
              "    </button>\n",
              "\n",
              "  <style>\n",
              "    .colab-df-container {\n",
              "      display:flex;\n",
              "      gap: 12px;\n",
              "    }\n",
              "\n",
              "    .colab-df-convert {\n",
              "      background-color: #E8F0FE;\n",
              "      border: none;\n",
              "      border-radius: 50%;\n",
              "      cursor: pointer;\n",
              "      display: none;\n",
              "      fill: #1967D2;\n",
              "      height: 32px;\n",
              "      padding: 0 0 0 0;\n",
              "      width: 32px;\n",
              "    }\n",
              "\n",
              "    .colab-df-convert:hover {\n",
              "      background-color: #E2EBFA;\n",
              "      box-shadow: 0px 1px 2px rgba(60, 64, 67, 0.3), 0px 1px 3px 1px rgba(60, 64, 67, 0.15);\n",
              "      fill: #174EA6;\n",
              "    }\n",
              "\n",
              "    .colab-df-buttons div {\n",
              "      margin-bottom: 4px;\n",
              "    }\n",
              "\n",
              "    [theme=dark] .colab-df-convert {\n",
              "      background-color: #3B4455;\n",
              "      fill: #D2E3FC;\n",
              "    }\n",
              "\n",
              "    [theme=dark] .colab-df-convert:hover {\n",
              "      background-color: #434B5C;\n",
              "      box-shadow: 0px 1px 3px 1px rgba(0, 0, 0, 0.15);\n",
              "      filter: drop-shadow(0px 1px 2px rgba(0, 0, 0, 0.3));\n",
              "      fill: #FFFFFF;\n",
              "    }\n",
              "  </style>\n",
              "\n",
              "    <script>\n",
              "      const buttonEl =\n",
              "        document.querySelector('#df-08233e64-cc17-49cb-a179-1bd9cd096875 button.colab-df-convert');\n",
              "      buttonEl.style.display =\n",
              "        google.colab.kernel.accessAllowed ? 'block' : 'none';\n",
              "\n",
              "      async function convertToInteractive(key) {\n",
              "        const element = document.querySelector('#df-08233e64-cc17-49cb-a179-1bd9cd096875');\n",
              "        const dataTable =\n",
              "          await google.colab.kernel.invokeFunction('convertToInteractive',\n",
              "                                                    [key], {});\n",
              "        if (!dataTable) return;\n",
              "\n",
              "        const docLinkHtml = 'Like what you see? Visit the ' +\n",
              "          '<a target=\"_blank\" href=https://colab.research.google.com/notebooks/data_table.ipynb>data table notebook</a>'\n",
              "          + ' to learn more about interactive tables.';\n",
              "        element.innerHTML = '';\n",
              "        dataTable['output_type'] = 'display_data';\n",
              "        await google.colab.output.renderOutput(dataTable, element);\n",
              "        const docLink = document.createElement('div');\n",
              "        docLink.innerHTML = docLinkHtml;\n",
              "        element.appendChild(docLink);\n",
              "      }\n",
              "    </script>\n",
              "  </div>\n",
              "\n",
              "\n",
              "<div id=\"df-acf214fc-1bf3-4c06-ba87-ea906e62a551\">\n",
              "  <button class=\"colab-df-quickchart\" onclick=\"quickchart('df-acf214fc-1bf3-4c06-ba87-ea906e62a551')\"\n",
              "            title=\"Suggest charts\"\n",
              "            style=\"display:none;\">\n",
              "\n",
              "<svg xmlns=\"http://www.w3.org/2000/svg\" height=\"24px\"viewBox=\"0 0 24 24\"\n",
              "     width=\"24px\">\n",
              "    <g>\n",
              "        <path d=\"M19 3H5c-1.1 0-2 .9-2 2v14c0 1.1.9 2 2 2h14c1.1 0 2-.9 2-2V5c0-1.1-.9-2-2-2zM9 17H7v-7h2v7zm4 0h-2V7h2v10zm4 0h-2v-4h2v4z\"/>\n",
              "    </g>\n",
              "</svg>\n",
              "  </button>\n",
              "\n",
              "<style>\n",
              "  .colab-df-quickchart {\n",
              "      --bg-color: #E8F0FE;\n",
              "      --fill-color: #1967D2;\n",
              "      --hover-bg-color: #E2EBFA;\n",
              "      --hover-fill-color: #174EA6;\n",
              "      --disabled-fill-color: #AAA;\n",
              "      --disabled-bg-color: #DDD;\n",
              "  }\n",
              "\n",
              "  [theme=dark] .colab-df-quickchart {\n",
              "      --bg-color: #3B4455;\n",
              "      --fill-color: #D2E3FC;\n",
              "      --hover-bg-color: #434B5C;\n",
              "      --hover-fill-color: #FFFFFF;\n",
              "      --disabled-bg-color: #3B4455;\n",
              "      --disabled-fill-color: #666;\n",
              "  }\n",
              "\n",
              "  .colab-df-quickchart {\n",
              "    background-color: var(--bg-color);\n",
              "    border: none;\n",
              "    border-radius: 50%;\n",
              "    cursor: pointer;\n",
              "    display: none;\n",
              "    fill: var(--fill-color);\n",
              "    height: 32px;\n",
              "    padding: 0;\n",
              "    width: 32px;\n",
              "  }\n",
              "\n",
              "  .colab-df-quickchart:hover {\n",
              "    background-color: var(--hover-bg-color);\n",
              "    box-shadow: 0 1px 2px rgba(60, 64, 67, 0.3), 0 1px 3px 1px rgba(60, 64, 67, 0.15);\n",
              "    fill: var(--button-hover-fill-color);\n",
              "  }\n",
              "\n",
              "  .colab-df-quickchart-complete:disabled,\n",
              "  .colab-df-quickchart-complete:disabled:hover {\n",
              "    background-color: var(--disabled-bg-color);\n",
              "    fill: var(--disabled-fill-color);\n",
              "    box-shadow: none;\n",
              "  }\n",
              "\n",
              "  .colab-df-spinner {\n",
              "    border: 2px solid var(--fill-color);\n",
              "    border-color: transparent;\n",
              "    border-bottom-color: var(--fill-color);\n",
              "    animation:\n",
              "      spin 1s steps(1) infinite;\n",
              "  }\n",
              "\n",
              "  @keyframes spin {\n",
              "    0% {\n",
              "      border-color: transparent;\n",
              "      border-bottom-color: var(--fill-color);\n",
              "      border-left-color: var(--fill-color);\n",
              "    }\n",
              "    20% {\n",
              "      border-color: transparent;\n",
              "      border-left-color: var(--fill-color);\n",
              "      border-top-color: var(--fill-color);\n",
              "    }\n",
              "    30% {\n",
              "      border-color: transparent;\n",
              "      border-left-color: var(--fill-color);\n",
              "      border-top-color: var(--fill-color);\n",
              "      border-right-color: var(--fill-color);\n",
              "    }\n",
              "    40% {\n",
              "      border-color: transparent;\n",
              "      border-right-color: var(--fill-color);\n",
              "      border-top-color: var(--fill-color);\n",
              "    }\n",
              "    60% {\n",
              "      border-color: transparent;\n",
              "      border-right-color: var(--fill-color);\n",
              "    }\n",
              "    80% {\n",
              "      border-color: transparent;\n",
              "      border-right-color: var(--fill-color);\n",
              "      border-bottom-color: var(--fill-color);\n",
              "    }\n",
              "    90% {\n",
              "      border-color: transparent;\n",
              "      border-bottom-color: var(--fill-color);\n",
              "    }\n",
              "  }\n",
              "</style>\n",
              "\n",
              "  <script>\n",
              "    async function quickchart(key) {\n",
              "      const quickchartButtonEl =\n",
              "        document.querySelector('#' + key + ' button');\n",
              "      quickchartButtonEl.disabled = true;  // To prevent multiple clicks.\n",
              "      quickchartButtonEl.classList.add('colab-df-spinner');\n",
              "      try {\n",
              "        const charts = await google.colab.kernel.invokeFunction(\n",
              "            'suggestCharts', [key], {});\n",
              "      } catch (error) {\n",
              "        console.error('Error during call to suggestCharts:', error);\n",
              "      }\n",
              "      quickchartButtonEl.classList.remove('colab-df-spinner');\n",
              "      quickchartButtonEl.classList.add('colab-df-quickchart-complete');\n",
              "    }\n",
              "    (() => {\n",
              "      let quickchartButtonEl =\n",
              "        document.querySelector('#df-acf214fc-1bf3-4c06-ba87-ea906e62a551 button');\n",
              "      quickchartButtonEl.style.display =\n",
              "        google.colab.kernel.accessAllowed ? 'block' : 'none';\n",
              "    })();\n",
              "  </script>\n",
              "</div>\n",
              "\n",
              "    </div>\n",
              "  </div>\n"
            ],
            "application/vnd.google.colaboratory.intrinsic+json": {
              "type": "dataframe"
            }
          },
          "metadata": {}
        },
        {
          "output_type": "display_data",
          "data": {
            "text/plain": [
              "(1048575, 104)"
            ]
          },
          "metadata": {}
        },
        {
          "output_type": "display_data",
          "data": {
            "text/plain": [
              "0"
            ]
          },
          "metadata": {}
        }
      ]
    },
    {
      "cell_type": "markdown",
      "source": [
        "## Tratamento da base de dados\n",
        "* Excluir colunas que não consideramos relevantes\n",
        "* Renomear as colunas\n",
        "* Excluir valores nulos\n",
        "* Identificação e exclusão de outliers\n",
        "* Tratamento das variáveis categóricas (one hot encoding)\n",
        "* Criar a coluna com a variável target"
      ],
      "metadata": {
        "id": "9h0DT-kqyGn4"
      }
    },
    {
      "cell_type": "code",
      "source": [
        "df = df.drop(columns=['ID_SAEB', 'TX_RESP_Q10a', 'TX_RESP_Q10b', 'TX_RESP_Q10c','ID_REGIAO', 'ID_UF', 'ID_MUNICIPIO', 'ID_ESCOLA', 'ID_TURMA', 'ID_SERIE', 'ID_ALUNO', 'IN_SITUACAO_CENSO', 'IN_PREENCHIMENTO_LP', 'IN_PREENCHIMENTO_MT', 'IN_PRESENCA_LP', 'IN_PRESENCA_MT', 'ID_CADERNO_LP', 'ID_BLOCO_1_LP', 'ID_BLOCO_2_LP', 'ID_CADERNO_MT', 'ID_BLOCO_1_MT', 'ID_BLOCO_2_MT', 'TX_RESP_BLOCO1_LP','TX_RESP_BLOCO2_LP', 'TX_RESP_BLOCO1_MT', 'TX_RESP_BLOCO2_MT', 'IN_PROFICIENCIA_LP', 'IN_PROFICIENCIA_MT',  'IN_AMOSTRA', 'ESTRATO', 'PESO_ALUNO_LP', 'PROFICIENCIA_LP', 'ERRO_PADRAO_LP', 'ERRO_PADRAO_LP_SAEB', 'PESO_ALUNO_MT', 'PROFICIENCIA_MT', 'ERRO_PADRAO_MT', 'ERRO_PADRAO_MT_SAEB', 'IN_PREENCHIMENTO_QUESTIONARIO', 'IN_INSE', 'INSE_ALUNO', 'NU_TIPO_NIVEL_INSE', 'PESO_ALUNO_INSE', 'TX_RESP_Q02', 'TX_RESP_Q06a', 'TX_RESP_Q06b', 'TX_RESP_Q06c', 'TX_RESP_Q06d', 'TX_RESP_Q06e', 'TX_RESP_Q09a', 'TX_RESP_Q09b',  'TX_RESP_Q09e', 'TX_RESP_Q09f', 'TX_RESP_Q11a', 'TX_RESP_Q11b', 'TX_RESP_Q11c', 'TX_RESP_Q11d', 'TX_RESP_Q11e', 'TX_RESP_Q11f', 'TX_RESP_Q11g', 'TX_RESP_Q11h','TX_RESP_Q12a', 'TX_RESP_Q12c', 'TX_RESP_Q12d', 'TX_RESP_Q12e', 'TX_RESP_Q12f', 'TX_RESP_Q12g', 'TX_RESP_Q12h', 'TX_RESP_Q12i', 'TX_RESP_Q13','TX_RESP_Q14', 'TX_RESP_Q15', 'TX_RESP_Q16', 'TX_RESP_Q17', 'TX_RESP_Q19', 'TX_RESP_Q20b', 'TX_RESP_Q20c', 'TX_RESP_Q20d', 'TX_RESP_Q20e','TX_RESP_Q21a', 'TX_RESP_Q21b', 'TX_RESP_Q21c', 'TX_RESP_Q21d', 'TX_RESP_Q21e', 'TX_RESP_Q21f', 'TX_RESP_Q21g', 'TX_RESP_Q21h', 'TX_RESP_Q21i'])"
      ],
      "metadata": {
        "id": "4g-urDkSyeZB"
      },
      "execution_count": 18,
      "outputs": []
    },
    {
      "cell_type": "code",
      "source": [
        "df = df.dropna()\n",
        "df.shape"
      ],
      "metadata": {
        "id": "wyA-XtdpVZJn",
        "outputId": "adcdaa7c-eeff-4013-a78e-8990b5c57816",
        "colab": {
          "base_uri": "https://localhost:8080/"
        }
      },
      "execution_count": 19,
      "outputs": [
        {
          "output_type": "execute_result",
          "data": {
            "text/plain": [
              "(799342, 16)"
            ]
          },
          "metadata": {},
          "execution_count": 19
        }
      ]
    },
    {
      "cell_type": "code",
      "source": [
        "df.columns"
      ],
      "metadata": {
        "id": "8-Bf92wnVZUX",
        "outputId": "793f96cb-8b13-41b5-c993-2d3efa7e9645",
        "colab": {
          "base_uri": "https://localhost:8080/"
        }
      },
      "execution_count": 20,
      "outputs": [
        {
          "output_type": "execute_result",
          "data": {
            "text/plain": [
              "Index(['ID_AREA', 'IN_PUBLICA', 'ID_LOCALIZACAO', 'PROFICIENCIA_LP_SAEB',\n",
              "       'PROFICIENCIA_MT_SAEB', 'TX_RESP_Q01', 'TX_RESP_Q03', 'TX_RESP_Q04',\n",
              "       'TX_RESP_Q05', 'TX_RESP_Q07', 'TX_RESP_Q08', 'TX_RESP_Q09c',\n",
              "       'TX_RESP_Q09d', 'TX_RESP_Q12b', 'TX_RESP_Q18', 'TX_RESP_Q20a'],\n",
              "      dtype='object')"
            ]
          },
          "metadata": {},
          "execution_count": 20
        }
      ]
    },
    {
      "cell_type": "code",
      "source": [
        "df.columns = ['Área', 'Pública ou privada?', 'Urbana ou rural?', 'Proficiência_Português', 'Proficiência_Matemática', 'Gênero', 'Qual língua seus pais falam com mais frequência em casa?', 'Qual é a sua cor ou raça?',\n",
        "              'Você possui algum tipo de necessidade especial?', 'Escolaridade da mãe (ou mulher responsável)', 'Escolaridade do pai (ou homem responsável)',\n",
        "              'Seus pais costumam incentivar você a estudar?','Seus pais costumam incentivar você a fazer a tarefa de casa?',\n",
        "              'Na sua casa tem rede Wi-Fi?', 'Você já foi reprovado(a)?', 'Quanto tempo você usa para estudar?' ]"
      ],
      "metadata": {
        "id": "IboeTF43VZaj"
      },
      "execution_count": 21,
      "outputs": []
    },
    {
      "cell_type": "code",
      "source": [
        "df.head()"
      ],
      "metadata": {
        "id": "rVB8Z7UxVZdm",
        "outputId": "d2e5bc49-8b7d-4fcb-86e7-a4f486802968",
        "colab": {
          "base_uri": "https://localhost:8080/",
          "height": 331
        }
      },
      "execution_count": 22,
      "outputs": [
        {
          "output_type": "execute_result",
          "data": {
            "text/plain": [
              "   Área  Pública ou privada?  Urbana ou rural? Proficiência_Português  \\\n",
              "0     2                    1                 1            230.713.772   \n",
              "3     2                    1                 1            162.714.073   \n",
              "4     2                    1                 1             20.245.253   \n",
              "5     2                    1                 1            125.432.835   \n",
              "6     2                    1                 1            197.157.672   \n",
              "\n",
              "  Proficiência_Matemática Gênero  \\\n",
              "0             243.703.155      B   \n",
              "3             148.990.699      B   \n",
              "4             207.349.611      B   \n",
              "5             197.371.768      A   \n",
              "6             201.004.267      A   \n",
              "\n",
              "  Qual língua seus pais falam com mais frequência em casa?  \\\n",
              "0                                                  A         \n",
              "3                                                  A         \n",
              "4                                                  A         \n",
              "5                                                  A         \n",
              "6                                                  A         \n",
              "\n",
              "  Qual é a sua cor ou raça? Você possui algum tipo de necessidade especial?  \\\n",
              "0                         F                                               B   \n",
              "3                         F                                               B   \n",
              "4                         F                                               B   \n",
              "5                         C                                               B   \n",
              "6                         A                                               B   \n",
              "\n",
              "  Escolaridade da mãe (ou mulher responsável)  \\\n",
              "0                                           D   \n",
              "3                                           C   \n",
              "4                                           F   \n",
              "5                                           F   \n",
              "6                                           F   \n",
              "\n",
              "  Escolaridade do pai (ou homem responsável)  \\\n",
              "0                                          D   \n",
              "3                                          D   \n",
              "4                                          F   \n",
              "5                                          F   \n",
              "6                                          F   \n",
              "\n",
              "  Seus pais costumam incentivar você a estudar?  \\\n",
              "0                                             B   \n",
              "3                                             C   \n",
              "4                                             C   \n",
              "5                                             C   \n",
              "6                                             C   \n",
              "\n",
              "  Seus pais costumam incentivar você a fazer a tarefa de casa?  \\\n",
              "0                                                  B             \n",
              "3                                                  C             \n",
              "4                                                  C             \n",
              "5                                                  A             \n",
              "6                                                  C             \n",
              "\n",
              "  Na sua casa tem rede Wi-Fi? Você já foi reprovado(a)?  \\\n",
              "0                           B                         A   \n",
              "3                           B                         A   \n",
              "4                           B                         A   \n",
              "5                           B                         A   \n",
              "6                           B                         A   \n",
              "\n",
              "  Quanto tempo você usa para estudar?  \n",
              "0                                   B  \n",
              "3                                   B  \n",
              "4                                   B  \n",
              "5                                   B  \n",
              "6                                   C  "
            ],
            "text/html": [
              "\n",
              "  <div id=\"df-776d652e-9cc5-41b0-8af1-d7c59119f718\" class=\"colab-df-container\">\n",
              "    <div>\n",
              "<style scoped>\n",
              "    .dataframe tbody tr th:only-of-type {\n",
              "        vertical-align: middle;\n",
              "    }\n",
              "\n",
              "    .dataframe tbody tr th {\n",
              "        vertical-align: top;\n",
              "    }\n",
              "\n",
              "    .dataframe thead th {\n",
              "        text-align: right;\n",
              "    }\n",
              "</style>\n",
              "<table border=\"1\" class=\"dataframe\">\n",
              "  <thead>\n",
              "    <tr style=\"text-align: right;\">\n",
              "      <th></th>\n",
              "      <th>Área</th>\n",
              "      <th>Pública ou privada?</th>\n",
              "      <th>Urbana ou rural?</th>\n",
              "      <th>Proficiência_Português</th>\n",
              "      <th>Proficiência_Matemática</th>\n",
              "      <th>Gênero</th>\n",
              "      <th>Qual língua seus pais falam com mais frequência em casa?</th>\n",
              "      <th>Qual é a sua cor ou raça?</th>\n",
              "      <th>Você possui algum tipo de necessidade especial?</th>\n",
              "      <th>Escolaridade da mãe (ou mulher responsável)</th>\n",
              "      <th>Escolaridade do pai (ou homem responsável)</th>\n",
              "      <th>Seus pais costumam incentivar você a estudar?</th>\n",
              "      <th>Seus pais costumam incentivar você a fazer a tarefa de casa?</th>\n",
              "      <th>Na sua casa tem rede Wi-Fi?</th>\n",
              "      <th>Você já foi reprovado(a)?</th>\n",
              "      <th>Quanto tempo você usa para estudar?</th>\n",
              "    </tr>\n",
              "  </thead>\n",
              "  <tbody>\n",
              "    <tr>\n",
              "      <th>0</th>\n",
              "      <td>2</td>\n",
              "      <td>1</td>\n",
              "      <td>1</td>\n",
              "      <td>230.713.772</td>\n",
              "      <td>243.703.155</td>\n",
              "      <td>B</td>\n",
              "      <td>A</td>\n",
              "      <td>F</td>\n",
              "      <td>B</td>\n",
              "      <td>D</td>\n",
              "      <td>D</td>\n",
              "      <td>B</td>\n",
              "      <td>B</td>\n",
              "      <td>B</td>\n",
              "      <td>A</td>\n",
              "      <td>B</td>\n",
              "    </tr>\n",
              "    <tr>\n",
              "      <th>3</th>\n",
              "      <td>2</td>\n",
              "      <td>1</td>\n",
              "      <td>1</td>\n",
              "      <td>162.714.073</td>\n",
              "      <td>148.990.699</td>\n",
              "      <td>B</td>\n",
              "      <td>A</td>\n",
              "      <td>F</td>\n",
              "      <td>B</td>\n",
              "      <td>C</td>\n",
              "      <td>D</td>\n",
              "      <td>C</td>\n",
              "      <td>C</td>\n",
              "      <td>B</td>\n",
              "      <td>A</td>\n",
              "      <td>B</td>\n",
              "    </tr>\n",
              "    <tr>\n",
              "      <th>4</th>\n",
              "      <td>2</td>\n",
              "      <td>1</td>\n",
              "      <td>1</td>\n",
              "      <td>20.245.253</td>\n",
              "      <td>207.349.611</td>\n",
              "      <td>B</td>\n",
              "      <td>A</td>\n",
              "      <td>F</td>\n",
              "      <td>B</td>\n",
              "      <td>F</td>\n",
              "      <td>F</td>\n",
              "      <td>C</td>\n",
              "      <td>C</td>\n",
              "      <td>B</td>\n",
              "      <td>A</td>\n",
              "      <td>B</td>\n",
              "    </tr>\n",
              "    <tr>\n",
              "      <th>5</th>\n",
              "      <td>2</td>\n",
              "      <td>1</td>\n",
              "      <td>1</td>\n",
              "      <td>125.432.835</td>\n",
              "      <td>197.371.768</td>\n",
              "      <td>A</td>\n",
              "      <td>A</td>\n",
              "      <td>C</td>\n",
              "      <td>B</td>\n",
              "      <td>F</td>\n",
              "      <td>F</td>\n",
              "      <td>C</td>\n",
              "      <td>A</td>\n",
              "      <td>B</td>\n",
              "      <td>A</td>\n",
              "      <td>B</td>\n",
              "    </tr>\n",
              "    <tr>\n",
              "      <th>6</th>\n",
              "      <td>2</td>\n",
              "      <td>1</td>\n",
              "      <td>1</td>\n",
              "      <td>197.157.672</td>\n",
              "      <td>201.004.267</td>\n",
              "      <td>A</td>\n",
              "      <td>A</td>\n",
              "      <td>A</td>\n",
              "      <td>B</td>\n",
              "      <td>F</td>\n",
              "      <td>F</td>\n",
              "      <td>C</td>\n",
              "      <td>C</td>\n",
              "      <td>B</td>\n",
              "      <td>A</td>\n",
              "      <td>C</td>\n",
              "    </tr>\n",
              "  </tbody>\n",
              "</table>\n",
              "</div>\n",
              "    <div class=\"colab-df-buttons\">\n",
              "\n",
              "  <div class=\"colab-df-container\">\n",
              "    <button class=\"colab-df-convert\" onclick=\"convertToInteractive('df-776d652e-9cc5-41b0-8af1-d7c59119f718')\"\n",
              "            title=\"Convert this dataframe to an interactive table.\"\n",
              "            style=\"display:none;\">\n",
              "\n",
              "  <svg xmlns=\"http://www.w3.org/2000/svg\" height=\"24px\" viewBox=\"0 -960 960 960\">\n",
              "    <path d=\"M120-120v-720h720v720H120Zm60-500h600v-160H180v160Zm220 220h160v-160H400v160Zm0 220h160v-160H400v160ZM180-400h160v-160H180v160Zm440 0h160v-160H620v160ZM180-180h160v-160H180v160Zm440 0h160v-160H620v160Z\"/>\n",
              "  </svg>\n",
              "    </button>\n",
              "\n",
              "  <style>\n",
              "    .colab-df-container {\n",
              "      display:flex;\n",
              "      gap: 12px;\n",
              "    }\n",
              "\n",
              "    .colab-df-convert {\n",
              "      background-color: #E8F0FE;\n",
              "      border: none;\n",
              "      border-radius: 50%;\n",
              "      cursor: pointer;\n",
              "      display: none;\n",
              "      fill: #1967D2;\n",
              "      height: 32px;\n",
              "      padding: 0 0 0 0;\n",
              "      width: 32px;\n",
              "    }\n",
              "\n",
              "    .colab-df-convert:hover {\n",
              "      background-color: #E2EBFA;\n",
              "      box-shadow: 0px 1px 2px rgba(60, 64, 67, 0.3), 0px 1px 3px 1px rgba(60, 64, 67, 0.15);\n",
              "      fill: #174EA6;\n",
              "    }\n",
              "\n",
              "    .colab-df-buttons div {\n",
              "      margin-bottom: 4px;\n",
              "    }\n",
              "\n",
              "    [theme=dark] .colab-df-convert {\n",
              "      background-color: #3B4455;\n",
              "      fill: #D2E3FC;\n",
              "    }\n",
              "\n",
              "    [theme=dark] .colab-df-convert:hover {\n",
              "      background-color: #434B5C;\n",
              "      box-shadow: 0px 1px 3px 1px rgba(0, 0, 0, 0.15);\n",
              "      filter: drop-shadow(0px 1px 2px rgba(0, 0, 0, 0.3));\n",
              "      fill: #FFFFFF;\n",
              "    }\n",
              "  </style>\n",
              "\n",
              "    <script>\n",
              "      const buttonEl =\n",
              "        document.querySelector('#df-776d652e-9cc5-41b0-8af1-d7c59119f718 button.colab-df-convert');\n",
              "      buttonEl.style.display =\n",
              "        google.colab.kernel.accessAllowed ? 'block' : 'none';\n",
              "\n",
              "      async function convertToInteractive(key) {\n",
              "        const element = document.querySelector('#df-776d652e-9cc5-41b0-8af1-d7c59119f718');\n",
              "        const dataTable =\n",
              "          await google.colab.kernel.invokeFunction('convertToInteractive',\n",
              "                                                    [key], {});\n",
              "        if (!dataTable) return;\n",
              "\n",
              "        const docLinkHtml = 'Like what you see? Visit the ' +\n",
              "          '<a target=\"_blank\" href=https://colab.research.google.com/notebooks/data_table.ipynb>data table notebook</a>'\n",
              "          + ' to learn more about interactive tables.';\n",
              "        element.innerHTML = '';\n",
              "        dataTable['output_type'] = 'display_data';\n",
              "        await google.colab.output.renderOutput(dataTable, element);\n",
              "        const docLink = document.createElement('div');\n",
              "        docLink.innerHTML = docLinkHtml;\n",
              "        element.appendChild(docLink);\n",
              "      }\n",
              "    </script>\n",
              "  </div>\n",
              "\n",
              "\n",
              "<div id=\"df-ba116faa-d25d-4f24-825c-cd88c90de835\">\n",
              "  <button class=\"colab-df-quickchart\" onclick=\"quickchart('df-ba116faa-d25d-4f24-825c-cd88c90de835')\"\n",
              "            title=\"Suggest charts\"\n",
              "            style=\"display:none;\">\n",
              "\n",
              "<svg xmlns=\"http://www.w3.org/2000/svg\" height=\"24px\"viewBox=\"0 0 24 24\"\n",
              "     width=\"24px\">\n",
              "    <g>\n",
              "        <path d=\"M19 3H5c-1.1 0-2 .9-2 2v14c0 1.1.9 2 2 2h14c1.1 0 2-.9 2-2V5c0-1.1-.9-2-2-2zM9 17H7v-7h2v7zm4 0h-2V7h2v10zm4 0h-2v-4h2v4z\"/>\n",
              "    </g>\n",
              "</svg>\n",
              "  </button>\n",
              "\n",
              "<style>\n",
              "  .colab-df-quickchart {\n",
              "      --bg-color: #E8F0FE;\n",
              "      --fill-color: #1967D2;\n",
              "      --hover-bg-color: #E2EBFA;\n",
              "      --hover-fill-color: #174EA6;\n",
              "      --disabled-fill-color: #AAA;\n",
              "      --disabled-bg-color: #DDD;\n",
              "  }\n",
              "\n",
              "  [theme=dark] .colab-df-quickchart {\n",
              "      --bg-color: #3B4455;\n",
              "      --fill-color: #D2E3FC;\n",
              "      --hover-bg-color: #434B5C;\n",
              "      --hover-fill-color: #FFFFFF;\n",
              "      --disabled-bg-color: #3B4455;\n",
              "      --disabled-fill-color: #666;\n",
              "  }\n",
              "\n",
              "  .colab-df-quickchart {\n",
              "    background-color: var(--bg-color);\n",
              "    border: none;\n",
              "    border-radius: 50%;\n",
              "    cursor: pointer;\n",
              "    display: none;\n",
              "    fill: var(--fill-color);\n",
              "    height: 32px;\n",
              "    padding: 0;\n",
              "    width: 32px;\n",
              "  }\n",
              "\n",
              "  .colab-df-quickchart:hover {\n",
              "    background-color: var(--hover-bg-color);\n",
              "    box-shadow: 0 1px 2px rgba(60, 64, 67, 0.3), 0 1px 3px 1px rgba(60, 64, 67, 0.15);\n",
              "    fill: var(--button-hover-fill-color);\n",
              "  }\n",
              "\n",
              "  .colab-df-quickchart-complete:disabled,\n",
              "  .colab-df-quickchart-complete:disabled:hover {\n",
              "    background-color: var(--disabled-bg-color);\n",
              "    fill: var(--disabled-fill-color);\n",
              "    box-shadow: none;\n",
              "  }\n",
              "\n",
              "  .colab-df-spinner {\n",
              "    border: 2px solid var(--fill-color);\n",
              "    border-color: transparent;\n",
              "    border-bottom-color: var(--fill-color);\n",
              "    animation:\n",
              "      spin 1s steps(1) infinite;\n",
              "  }\n",
              "\n",
              "  @keyframes spin {\n",
              "    0% {\n",
              "      border-color: transparent;\n",
              "      border-bottom-color: var(--fill-color);\n",
              "      border-left-color: var(--fill-color);\n",
              "    }\n",
              "    20% {\n",
              "      border-color: transparent;\n",
              "      border-left-color: var(--fill-color);\n",
              "      border-top-color: var(--fill-color);\n",
              "    }\n",
              "    30% {\n",
              "      border-color: transparent;\n",
              "      border-left-color: var(--fill-color);\n",
              "      border-top-color: var(--fill-color);\n",
              "      border-right-color: var(--fill-color);\n",
              "    }\n",
              "    40% {\n",
              "      border-color: transparent;\n",
              "      border-right-color: var(--fill-color);\n",
              "      border-top-color: var(--fill-color);\n",
              "    }\n",
              "    60% {\n",
              "      border-color: transparent;\n",
              "      border-right-color: var(--fill-color);\n",
              "    }\n",
              "    80% {\n",
              "      border-color: transparent;\n",
              "      border-right-color: var(--fill-color);\n",
              "      border-bottom-color: var(--fill-color);\n",
              "    }\n",
              "    90% {\n",
              "      border-color: transparent;\n",
              "      border-bottom-color: var(--fill-color);\n",
              "    }\n",
              "  }\n",
              "</style>\n",
              "\n",
              "  <script>\n",
              "    async function quickchart(key) {\n",
              "      const quickchartButtonEl =\n",
              "        document.querySelector('#' + key + ' button');\n",
              "      quickchartButtonEl.disabled = true;  // To prevent multiple clicks.\n",
              "      quickchartButtonEl.classList.add('colab-df-spinner');\n",
              "      try {\n",
              "        const charts = await google.colab.kernel.invokeFunction(\n",
              "            'suggestCharts', [key], {});\n",
              "      } catch (error) {\n",
              "        console.error('Error during call to suggestCharts:', error);\n",
              "      }\n",
              "      quickchartButtonEl.classList.remove('colab-df-spinner');\n",
              "      quickchartButtonEl.classList.add('colab-df-quickchart-complete');\n",
              "    }\n",
              "    (() => {\n",
              "      let quickchartButtonEl =\n",
              "        document.querySelector('#df-ba116faa-d25d-4f24-825c-cd88c90de835 button');\n",
              "      quickchartButtonEl.style.display =\n",
              "        google.colab.kernel.accessAllowed ? 'block' : 'none';\n",
              "    })();\n",
              "  </script>\n",
              "</div>\n",
              "\n",
              "    </div>\n",
              "  </div>\n"
            ],
            "application/vnd.google.colaboratory.intrinsic+json": {
              "type": "dataframe",
              "variable_name": "df"
            }
          },
          "metadata": {},
          "execution_count": 22
        }
      ]
    },
    {
      "cell_type": "code",
      "source": [
        "#Retirando os valores brancos e nulos de algumas colunas, que estão representados por \".\" e \"*\".\n",
        "df.replace({'.': np.nan, '*': np.nan}, inplace=True)\n",
        "df.dropna(inplace=True)"
      ],
      "metadata": {
        "id": "qU8XDPnfAk4o"
      },
      "execution_count": 23,
      "outputs": []
    },
    {
      "cell_type": "code",
      "source": [
        "df.shape"
      ],
      "metadata": {
        "id": "HIjV32_KV-Ft",
        "outputId": "5cebd088-ad80-4a5b-a50b-1e4242872ca4",
        "colab": {
          "base_uri": "https://localhost:8080/"
        }
      },
      "execution_count": 24,
      "outputs": [
        {
          "output_type": "execute_result",
          "data": {
            "text/plain": [
              "(569321, 16)"
            ]
          },
          "metadata": {},
          "execution_count": 24
        }
      ]
    },
    {
      "cell_type": "markdown",
      "source": [
        "## **Modelo 1**\n",
        "\n",
        "*Descreva resumidamente o modelo empregado.*\n"
      ],
      "metadata": {
        "id": "FGwyFHwtoO5m"
      }
    },
    {
      "cell_type": "markdown",
      "source": [
        "### **Modelo 1:** Preparação dos Dados\n"
      ],
      "metadata": {
        "id": "hXaglI6JoaJO"
      }
    },
    {
      "cell_type": "code",
      "source": [
        "#Agora não temos mais valores nulos. Vamos plotar gráficos das 2 variáveis numéricas de nossa base de dados para analisar a distribuição dos dados.\n",
        "variaveis_numericas = df.select_dtypes(['float64'])\n",
        "variaveis_numericas"
      ],
      "metadata": {
        "id": "-8gSVEHyoeLK",
        "outputId": "43b5b510-10ab-4a05-dd13-fdb242db3c8c",
        "colab": {
          "base_uri": "https://localhost:8080/",
          "height": 407
        }
      },
      "execution_count": 25,
      "outputs": [
        {
          "output_type": "execute_result",
          "data": {
            "text/plain": [
              "Empty DataFrame\n",
              "Columns: []\n",
              "Index: [0, 3, 4, 5, 6, 8, 10, 14, 18, 19, 20, 21, 22, 24, 26, 31, 32, 36, 40, 43, 44, 45, 48, 51, 52, 55, 57, 58, 59, 61, 66, 68, 69, 70, 71, 72, 75, 76, 77, 78, 79, 80, 81, 82, 83, 84, 87, 88, 89, 90, 91, 97, 99, 101, 104, 106, 113, 114, 117, 122, 126, 127, 128, 129, 131, 132, 133, 137, 138, 139, 140, 141, 142, 143, 144, 146, 150, 154, 155, 157, 158, 160, 161, 163, 164, 165, 166, 167, 171, 174, 176, 178, 180, 182, 183, 184, 185, 187, 188, 190, ...]\n",
              "\n",
              "[569321 rows x 0 columns]"
            ],
            "text/html": [
              "\n",
              "  <div id=\"df-9dc6f1b4-caee-4a9e-a674-3f4d1876d4cb\" class=\"colab-df-container\">\n",
              "    <div>\n",
              "<style scoped>\n",
              "    .dataframe tbody tr th:only-of-type {\n",
              "        vertical-align: middle;\n",
              "    }\n",
              "\n",
              "    .dataframe tbody tr th {\n",
              "        vertical-align: top;\n",
              "    }\n",
              "\n",
              "    .dataframe thead th {\n",
              "        text-align: right;\n",
              "    }\n",
              "</style>\n",
              "<table border=\"1\" class=\"dataframe\">\n",
              "  <thead>\n",
              "    <tr style=\"text-align: right;\">\n",
              "      <th></th>\n",
              "    </tr>\n",
              "  </thead>\n",
              "  <tbody>\n",
              "    <tr>\n",
              "      <th>0</th>\n",
              "    </tr>\n",
              "    <tr>\n",
              "      <th>3</th>\n",
              "    </tr>\n",
              "    <tr>\n",
              "      <th>4</th>\n",
              "    </tr>\n",
              "    <tr>\n",
              "      <th>5</th>\n",
              "    </tr>\n",
              "    <tr>\n",
              "      <th>6</th>\n",
              "    </tr>\n",
              "    <tr>\n",
              "      <th>...</th>\n",
              "    </tr>\n",
              "    <tr>\n",
              "      <th>1048569</th>\n",
              "    </tr>\n",
              "    <tr>\n",
              "      <th>1048570</th>\n",
              "    </tr>\n",
              "    <tr>\n",
              "      <th>1048572</th>\n",
              "    </tr>\n",
              "    <tr>\n",
              "      <th>1048573</th>\n",
              "    </tr>\n",
              "    <tr>\n",
              "      <th>1048574</th>\n",
              "    </tr>\n",
              "  </tbody>\n",
              "</table>\n",
              "<p>569321 rows × 0 columns</p>\n",
              "</div>\n",
              "    <div class=\"colab-df-buttons\">\n",
              "\n",
              "  <div class=\"colab-df-container\">\n",
              "    <button class=\"colab-df-convert\" onclick=\"convertToInteractive('df-9dc6f1b4-caee-4a9e-a674-3f4d1876d4cb')\"\n",
              "            title=\"Convert this dataframe to an interactive table.\"\n",
              "            style=\"display:none;\">\n",
              "\n",
              "  <svg xmlns=\"http://www.w3.org/2000/svg\" height=\"24px\" viewBox=\"0 -960 960 960\">\n",
              "    <path d=\"M120-120v-720h720v720H120Zm60-500h600v-160H180v160Zm220 220h160v-160H400v160Zm0 220h160v-160H400v160ZM180-400h160v-160H180v160Zm440 0h160v-160H620v160ZM180-180h160v-160H180v160Zm440 0h160v-160H620v160Z\"/>\n",
              "  </svg>\n",
              "    </button>\n",
              "\n",
              "  <style>\n",
              "    .colab-df-container {\n",
              "      display:flex;\n",
              "      gap: 12px;\n",
              "    }\n",
              "\n",
              "    .colab-df-convert {\n",
              "      background-color: #E8F0FE;\n",
              "      border: none;\n",
              "      border-radius: 50%;\n",
              "      cursor: pointer;\n",
              "      display: none;\n",
              "      fill: #1967D2;\n",
              "      height: 32px;\n",
              "      padding: 0 0 0 0;\n",
              "      width: 32px;\n",
              "    }\n",
              "\n",
              "    .colab-df-convert:hover {\n",
              "      background-color: #E2EBFA;\n",
              "      box-shadow: 0px 1px 2px rgba(60, 64, 67, 0.3), 0px 1px 3px 1px rgba(60, 64, 67, 0.15);\n",
              "      fill: #174EA6;\n",
              "    }\n",
              "\n",
              "    .colab-df-buttons div {\n",
              "      margin-bottom: 4px;\n",
              "    }\n",
              "\n",
              "    [theme=dark] .colab-df-convert {\n",
              "      background-color: #3B4455;\n",
              "      fill: #D2E3FC;\n",
              "    }\n",
              "\n",
              "    [theme=dark] .colab-df-convert:hover {\n",
              "      background-color: #434B5C;\n",
              "      box-shadow: 0px 1px 3px 1px rgba(0, 0, 0, 0.15);\n",
              "      filter: drop-shadow(0px 1px 2px rgba(0, 0, 0, 0.3));\n",
              "      fill: #FFFFFF;\n",
              "    }\n",
              "  </style>\n",
              "\n",
              "    <script>\n",
              "      const buttonEl =\n",
              "        document.querySelector('#df-9dc6f1b4-caee-4a9e-a674-3f4d1876d4cb button.colab-df-convert');\n",
              "      buttonEl.style.display =\n",
              "        google.colab.kernel.accessAllowed ? 'block' : 'none';\n",
              "\n",
              "      async function convertToInteractive(key) {\n",
              "        const element = document.querySelector('#df-9dc6f1b4-caee-4a9e-a674-3f4d1876d4cb');\n",
              "        const dataTable =\n",
              "          await google.colab.kernel.invokeFunction('convertToInteractive',\n",
              "                                                    [key], {});\n",
              "        if (!dataTable) return;\n",
              "\n",
              "        const docLinkHtml = 'Like what you see? Visit the ' +\n",
              "          '<a target=\"_blank\" href=https://colab.research.google.com/notebooks/data_table.ipynb>data table notebook</a>'\n",
              "          + ' to learn more about interactive tables.';\n",
              "        element.innerHTML = '';\n",
              "        dataTable['output_type'] = 'display_data';\n",
              "        await google.colab.output.renderOutput(dataTable, element);\n",
              "        const docLink = document.createElement('div');\n",
              "        docLink.innerHTML = docLinkHtml;\n",
              "        element.appendChild(docLink);\n",
              "      }\n",
              "    </script>\n",
              "  </div>\n",
              "\n",
              "\n",
              "<div id=\"df-2e1f143f-7f30-44d4-98f4-625d8db1709a\">\n",
              "  <button class=\"colab-df-quickchart\" onclick=\"quickchart('df-2e1f143f-7f30-44d4-98f4-625d8db1709a')\"\n",
              "            title=\"Suggest charts\"\n",
              "            style=\"display:none;\">\n",
              "\n",
              "<svg xmlns=\"http://www.w3.org/2000/svg\" height=\"24px\"viewBox=\"0 0 24 24\"\n",
              "     width=\"24px\">\n",
              "    <g>\n",
              "        <path d=\"M19 3H5c-1.1 0-2 .9-2 2v14c0 1.1.9 2 2 2h14c1.1 0 2-.9 2-2V5c0-1.1-.9-2-2-2zM9 17H7v-7h2v7zm4 0h-2V7h2v10zm4 0h-2v-4h2v4z\"/>\n",
              "    </g>\n",
              "</svg>\n",
              "  </button>\n",
              "\n",
              "<style>\n",
              "  .colab-df-quickchart {\n",
              "      --bg-color: #E8F0FE;\n",
              "      --fill-color: #1967D2;\n",
              "      --hover-bg-color: #E2EBFA;\n",
              "      --hover-fill-color: #174EA6;\n",
              "      --disabled-fill-color: #AAA;\n",
              "      --disabled-bg-color: #DDD;\n",
              "  }\n",
              "\n",
              "  [theme=dark] .colab-df-quickchart {\n",
              "      --bg-color: #3B4455;\n",
              "      --fill-color: #D2E3FC;\n",
              "      --hover-bg-color: #434B5C;\n",
              "      --hover-fill-color: #FFFFFF;\n",
              "      --disabled-bg-color: #3B4455;\n",
              "      --disabled-fill-color: #666;\n",
              "  }\n",
              "\n",
              "  .colab-df-quickchart {\n",
              "    background-color: var(--bg-color);\n",
              "    border: none;\n",
              "    border-radius: 50%;\n",
              "    cursor: pointer;\n",
              "    display: none;\n",
              "    fill: var(--fill-color);\n",
              "    height: 32px;\n",
              "    padding: 0;\n",
              "    width: 32px;\n",
              "  }\n",
              "\n",
              "  .colab-df-quickchart:hover {\n",
              "    background-color: var(--hover-bg-color);\n",
              "    box-shadow: 0 1px 2px rgba(60, 64, 67, 0.3), 0 1px 3px 1px rgba(60, 64, 67, 0.15);\n",
              "    fill: var(--button-hover-fill-color);\n",
              "  }\n",
              "\n",
              "  .colab-df-quickchart-complete:disabled,\n",
              "  .colab-df-quickchart-complete:disabled:hover {\n",
              "    background-color: var(--disabled-bg-color);\n",
              "    fill: var(--disabled-fill-color);\n",
              "    box-shadow: none;\n",
              "  }\n",
              "\n",
              "  .colab-df-spinner {\n",
              "    border: 2px solid var(--fill-color);\n",
              "    border-color: transparent;\n",
              "    border-bottom-color: var(--fill-color);\n",
              "    animation:\n",
              "      spin 1s steps(1) infinite;\n",
              "  }\n",
              "\n",
              "  @keyframes spin {\n",
              "    0% {\n",
              "      border-color: transparent;\n",
              "      border-bottom-color: var(--fill-color);\n",
              "      border-left-color: var(--fill-color);\n",
              "    }\n",
              "    20% {\n",
              "      border-color: transparent;\n",
              "      border-left-color: var(--fill-color);\n",
              "      border-top-color: var(--fill-color);\n",
              "    }\n",
              "    30% {\n",
              "      border-color: transparent;\n",
              "      border-left-color: var(--fill-color);\n",
              "      border-top-color: var(--fill-color);\n",
              "      border-right-color: var(--fill-color);\n",
              "    }\n",
              "    40% {\n",
              "      border-color: transparent;\n",
              "      border-right-color: var(--fill-color);\n",
              "      border-top-color: var(--fill-color);\n",
              "    }\n",
              "    60% {\n",
              "      border-color: transparent;\n",
              "      border-right-color: var(--fill-color);\n",
              "    }\n",
              "    80% {\n",
              "      border-color: transparent;\n",
              "      border-right-color: var(--fill-color);\n",
              "      border-bottom-color: var(--fill-color);\n",
              "    }\n",
              "    90% {\n",
              "      border-color: transparent;\n",
              "      border-bottom-color: var(--fill-color);\n",
              "    }\n",
              "  }\n",
              "</style>\n",
              "\n",
              "  <script>\n",
              "    async function quickchart(key) {\n",
              "      const quickchartButtonEl =\n",
              "        document.querySelector('#' + key + ' button');\n",
              "      quickchartButtonEl.disabled = true;  // To prevent multiple clicks.\n",
              "      quickchartButtonEl.classList.add('colab-df-spinner');\n",
              "      try {\n",
              "        const charts = await google.colab.kernel.invokeFunction(\n",
              "            'suggestCharts', [key], {});\n",
              "      } catch (error) {\n",
              "        console.error('Error during call to suggestCharts:', error);\n",
              "      }\n",
              "      quickchartButtonEl.classList.remove('colab-df-spinner');\n",
              "      quickchartButtonEl.classList.add('colab-df-quickchart-complete');\n",
              "    }\n",
              "    (() => {\n",
              "      let quickchartButtonEl =\n",
              "        document.querySelector('#df-2e1f143f-7f30-44d4-98f4-625d8db1709a button');\n",
              "      quickchartButtonEl.style.display =\n",
              "        google.colab.kernel.accessAllowed ? 'block' : 'none';\n",
              "    })();\n",
              "  </script>\n",
              "</div>\n",
              "\n",
              "  <div id=\"id_45503d00-1c43-447b-9ec0-36404b41b558\">\n",
              "    <style>\n",
              "      .colab-df-generate {\n",
              "        background-color: #E8F0FE;\n",
              "        border: none;\n",
              "        border-radius: 50%;\n",
              "        cursor: pointer;\n",
              "        display: none;\n",
              "        fill: #1967D2;\n",
              "        height: 32px;\n",
              "        padding: 0 0 0 0;\n",
              "        width: 32px;\n",
              "      }\n",
              "\n",
              "      .colab-df-generate:hover {\n",
              "        background-color: #E2EBFA;\n",
              "        box-shadow: 0px 1px 2px rgba(60, 64, 67, 0.3), 0px 1px 3px 1px rgba(60, 64, 67, 0.15);\n",
              "        fill: #174EA6;\n",
              "      }\n",
              "\n",
              "      [theme=dark] .colab-df-generate {\n",
              "        background-color: #3B4455;\n",
              "        fill: #D2E3FC;\n",
              "      }\n",
              "\n",
              "      [theme=dark] .colab-df-generate:hover {\n",
              "        background-color: #434B5C;\n",
              "        box-shadow: 0px 1px 3px 1px rgba(0, 0, 0, 0.15);\n",
              "        filter: drop-shadow(0px 1px 2px rgba(0, 0, 0, 0.3));\n",
              "        fill: #FFFFFF;\n",
              "      }\n",
              "    </style>\n",
              "    <button class=\"colab-df-generate\" onclick=\"generateWithVariable('variaveis_numericas')\"\n",
              "            title=\"Generate code using this dataframe.\"\n",
              "            style=\"display:none;\">\n",
              "\n",
              "  <svg xmlns=\"http://www.w3.org/2000/svg\" height=\"24px\"viewBox=\"0 0 24 24\"\n",
              "       width=\"24px\">\n",
              "    <path d=\"M7,19H8.4L18.45,9,17,7.55,7,17.6ZM5,21V16.75L18.45,3.32a2,2,0,0,1,2.83,0l1.4,1.43a1.91,1.91,0,0,1,.58,1.4,1.91,1.91,0,0,1-.58,1.4L9.25,21ZM18.45,9,17,7.55Zm-12,3A5.31,5.31,0,0,0,4.9,8.1,5.31,5.31,0,0,0,1,6.5,5.31,5.31,0,0,0,4.9,4.9,5.31,5.31,0,0,0,6.5,1,5.31,5.31,0,0,0,8.1,4.9,5.31,5.31,0,0,0,12,6.5,5.46,5.46,0,0,0,6.5,12Z\"/>\n",
              "  </svg>\n",
              "    </button>\n",
              "    <script>\n",
              "      (() => {\n",
              "      const buttonEl =\n",
              "        document.querySelector('#id_45503d00-1c43-447b-9ec0-36404b41b558 button.colab-df-generate');\n",
              "      buttonEl.style.display =\n",
              "        google.colab.kernel.accessAllowed ? 'block' : 'none';\n",
              "\n",
              "      buttonEl.onclick = () => {\n",
              "        google.colab.notebook.generateWithVariable('variaveis_numericas');\n",
              "      }\n",
              "      })();\n",
              "    </script>\n",
              "  </div>\n",
              "\n",
              "    </div>\n",
              "  </div>\n"
            ],
            "application/vnd.google.colaboratory.intrinsic+json": {
              "type": "dataframe",
              "variable_name": "variaveis_numericas"
            }
          },
          "metadata": {},
          "execution_count": 25
        }
      ]
    },
    {
      "cell_type": "code",
      "source": [
        "num_plots = len(variaveis_numericas.columns)\n",
        "fig, axes = plt.subplots(1, 2, figsize=(12, 6))\n",
        "\n",
        "# Plotando boxplots para todas as colunas, divididos em 2 subgráficos\n",
        "for i, col in enumerate(variaveis_numericas.columns):\n",
        "    sns.boxplot(ax=axes[i % 2], data=variaveis_numericas[col])  # Boxplot para cada coluna\n",
        "    axes[i % 2].set_title(f'Boxplot de {col}')\n",
        "\n",
        "# Ajustar layout e exibir\n",
        "\n",
        "plt.tight_layout()\n",
        "plt.show()"
      ],
      "metadata": {
        "id": "uYzz105PW2Hl",
        "outputId": "fc033aea-3673-4565-926a-3c45aa1e3d61",
        "colab": {
          "base_uri": "https://localhost:8080/",
          "height": 606
        }
      },
      "execution_count": 26,
      "outputs": [
        {
          "output_type": "display_data",
          "data": {
            "text/plain": [
              "<Figure size 1200x600 with 2 Axes>"
            ],
            "image/png": "[encoded data removed]"
          },
          "metadata": {}
        }
      ]
    },
    {
      "cell_type": "markdown",
      "source": [
        "Percebemos que não há outliers nas notas de desempenho em português, mas há, sim, valores mais altos que o \"normal\" em matemática. Como o modelo de regressão logística é sensível a outliers, vamos excluir esses valores.\n"
      ],
      "metadata": {
        "id": "qUpBJZVnW7lZ"
      }
    },
    {
      "cell_type": "markdown",
      "source": [
        "### Identificando os outliers usando o método IQR.\n",
        "Para dropar todos esses pontos fora da curva, vamos substituí-los por um valor nulo e então excluí-los da base utilizando o método dropna() do pandas."
      ],
      "metadata": {
        "id": "uYeqsiXORLpt"
      }
    },
    {
      "cell_type": "code",
      "source": [
        "def identificador_outliers(dataset, col):\n",
        "  quartil_25, quartil_75 = np.quantile(dataset[col], 0.25), np.quantile(dataset[col], 0.75) #calculando o primeiro e o terceiro quartil de cada variável\n",
        "  iqr = quartil_75 - quartil_25 #calculando o IQR\n",
        "\n",
        "  #Definindo os valores máximos e mínimo para que um dado seja considerado \"normal\". Se o dado estiver acima ou abaixo dos limites inferior e superior, será cnsiderado um outilier.\n",
        "  limite_inferior = quartil_25 - (iqr * 1.5)\n",
        "  limite_superior = quartil_75 + (iqr * 1.5)\n",
        "\n",
        "  outliers = [] #lista onde os outliers serão armazenados\n",
        "\n",
        "  for i in dataset[col].values:\n",
        "    if ((i > limite_superior) or (i < limite_inferior)):\n",
        "      outliers.append(i)\n",
        "      dataset[col] = dataset[col].replace(i, np.nan) #substituindo os outliers por valores nulos\n",
        "\n",
        "  print(f'Número de outliers encontrado: {len(outliers)}.')\n",
        "  print(f'Nulos da variável {col}: {dataset[col].isnull().sum()}.') #Verificando se o número de nulos na variável é igual ao de outliers encontrados para garantir que a substituição foi feita corretamente"
      ],
      "metadata": {
        "id": "saHXFxgIW9_D"
      },
      "execution_count": 27,
      "outputs": []
    },
    {
      "cell_type": "code",
      "source": [
        "identificador_outliers(df, 'Proficiência_Matemática')"
      ],
      "metadata": {
        "id": "L3U2NadlXHYj",
        "outputId": "88ef8a7d-fc94-4581-e792-98dca6c03ba9",
        "colab": {
          "base_uri": "https://localhost:8080/",
          "height": 287
        }
      },
      "execution_count": 28,
      "outputs": [
        {
          "output_type": "error",
          "ename": "UFuncTypeError",
          "evalue": "ufunc 'subtract' did not contain a loop with signature matching types (dtype('<U11'), dtype('<U11')) -> None",
          "traceback": [
            "\u001b[0;31m---------------------------------------------------------------------------\u001b[0m",
            "\u001b[0;31mUFuncTypeError\u001b[0m                            Traceback (most recent call last)",
            "\u001b[0;32m<ipython-input-28-6a633ddef97a>\u001b[0m in \u001b[0;36m<cell line: 1>\u001b[0;34m()\u001b[0m\n\u001b[0;32m----> 1\u001b[0;31m \u001b[0midentificador_outliers\u001b[0m\u001b[0;34m(\u001b[0m\u001b[0mdf\u001b[0m\u001b[0;34m,\u001b[0m \u001b[0;34m'Proficiência_Matemática'\u001b[0m\u001b[0;34m)\u001b[0m\u001b[0;34m\u001b[0m\u001b[0;34m\u001b[0m\u001b[0m\n\u001b[0m",
            "\u001b[0;32m<ipython-input-27-2f8876351856>\u001b[0m in \u001b[0;36midentificador_outliers\u001b[0;34m(dataset, col)\u001b[0m\n\u001b[1;32m      1\u001b[0m \u001b[0;32mdef\u001b[0m \u001b[0midentificador_outliers\u001b[0m\u001b[0;34m(\u001b[0m\u001b[0mdataset\u001b[0m\u001b[0;34m,\u001b[0m \u001b[0mcol\u001b[0m\u001b[0;34m)\u001b[0m\u001b[0;34m:\u001b[0m\u001b[0;34m\u001b[0m\u001b[0;34m\u001b[0m\u001b[0m\n\u001b[0;32m----> 2\u001b[0;31m   \u001b[0mquartil_25\u001b[0m\u001b[0;34m,\u001b[0m \u001b[0mquartil_75\u001b[0m \u001b[0;34m=\u001b[0m \u001b[0mnp\u001b[0m\u001b[0;34m.\u001b[0m\u001b[0mquantile\u001b[0m\u001b[0;34m(\u001b[0m\u001b[0mdataset\u001b[0m\u001b[0;34m[\u001b[0m\u001b[0mcol\u001b[0m\u001b[0;34m]\u001b[0m\u001b[0;34m,\u001b[0m \u001b[0;36m0.25\u001b[0m\u001b[0;34m)\u001b[0m\u001b[0;34m,\u001b[0m \u001b[0mnp\u001b[0m\u001b[0;34m.\u001b[0m\u001b[0mquantile\u001b[0m\u001b[0;34m(\u001b[0m\u001b[0mdataset\u001b[0m\u001b[0;34m[\u001b[0m\u001b[0mcol\u001b[0m\u001b[0;34m]\u001b[0m\u001b[0;34m,\u001b[0m \u001b[0;36m0.75\u001b[0m\u001b[0;34m)\u001b[0m \u001b[0;31m#calculando o primeiro e o terceiro quartil de cada variável\u001b[0m\u001b[0;34m\u001b[0m\u001b[0;34m\u001b[0m\u001b[0m\n\u001b[0m\u001b[1;32m      3\u001b[0m   \u001b[0miqr\u001b[0m \u001b[0;34m=\u001b[0m \u001b[0mquartil_75\u001b[0m \u001b[0;34m-\u001b[0m \u001b[0mquartil_25\u001b[0m \u001b[0;31m#calculando o IQR\u001b[0m\u001b[0;34m\u001b[0m\u001b[0;34m\u001b[0m\u001b[0m\n\u001b[1;32m      4\u001b[0m \u001b[0;34m\u001b[0m\u001b[0m\n\u001b[1;32m      5\u001b[0m   \u001b[0;31m#Definindo os valores máximos e mínimo para que um dado seja considerado \"normal\". Se o dado estiver acima ou abaixo dos limites inferior e superior, será cnsiderado um outilier.\u001b[0m\u001b[0;34m\u001b[0m\u001b[0;34m\u001b[0m\u001b[0m\n",
            "\u001b[0;32m/usr/local/lib/python3.10/dist-packages/numpy/lib/function_base.py\u001b[0m in \u001b[0;36mquantile\u001b[0;34m(a, q, axis, out, overwrite_input, method, keepdims, interpolation)\u001b[0m\n\u001b[1;32m   4541\u001b[0m     \u001b[0;32mif\u001b[0m \u001b[0;32mnot\u001b[0m \u001b[0m_quantile_is_valid\u001b[0m\u001b[0;34m(\u001b[0m\u001b[0mq\u001b[0m\u001b[0;34m)\u001b[0m\u001b[0;34m:\u001b[0m\u001b[0;34m\u001b[0m\u001b[0;34m\u001b[0m\u001b[0m\n\u001b[1;32m   4542\u001b[0m         \u001b[0;32mraise\u001b[0m \u001b[0mValueError\u001b[0m\u001b[0;34m(\u001b[0m\u001b[0;34m\"Quantiles must be in the range [0, 1]\"\u001b[0m\u001b[0;34m)\u001b[0m\u001b[0;34m\u001b[0m\u001b[0;34m\u001b[0m\u001b[0m\n\u001b[0;32m-> 4543\u001b[0;31m     return _quantile_unchecked(\n\u001b[0m\u001b[1;32m   4544\u001b[0m         a, q, axis, out, overwrite_input, method, keepdims)\n\u001b[1;32m   4545\u001b[0m \u001b[0;34m\u001b[0m\u001b[0m\n",
            "\u001b[0;32m/usr/local/lib/python3.10/dist-packages/numpy/lib/function_base.py\u001b[0m in \u001b[0;36m_quantile_unchecked\u001b[0;34m(a, q, axis, out, overwrite_input, method, keepdims)\u001b[0m\n\u001b[1;32m   4553\u001b[0m                         keepdims=False):\n\u001b[1;32m   4554\u001b[0m     \u001b[0;34m\"\"\"Assumes that q is in [0, 1], and is an ndarray\"\"\"\u001b[0m\u001b[0;34m\u001b[0m\u001b[0;34m\u001b[0m\u001b[0m\n\u001b[0;32m-> 4555\u001b[0;31m     return _ureduce(a,\n\u001b[0m\u001b[1;32m   4556\u001b[0m                     \u001b[0mfunc\u001b[0m\u001b[0;34m=\u001b[0m\u001b[0m_quantile_ureduce_func\u001b[0m\u001b[0;34m,\u001b[0m\u001b[0;34m\u001b[0m\u001b[0;34m\u001b[0m\u001b[0m\n\u001b[1;32m   4557\u001b[0m                     \u001b[0mq\u001b[0m\u001b[0;34m=\u001b[0m\u001b[0mq\u001b[0m\u001b[0;34m,\u001b[0m\u001b[0;34m\u001b[0m\u001b[0;34m\u001b[0m\u001b[0m\n",
            "\u001b[0;32m/usr/local/lib/python3.10/dist-packages/numpy/lib/function_base.py\u001b[0m in \u001b[0;36m_ureduce\u001b[0;34m(a, func, keepdims, **kwargs)\u001b[0m\n\u001b[1;32m   3821\u001b[0m                 \u001b[0mkwargs\u001b[0m\u001b[0;34m[\u001b[0m\u001b[0;34m'out'\u001b[0m\u001b[0;34m]\u001b[0m \u001b[0;34m=\u001b[0m \u001b[0mout\u001b[0m\u001b[0;34m[\u001b[0m\u001b[0;34m(\u001b[0m\u001b[0mEllipsis\u001b[0m\u001b[0;34m,\u001b[0m \u001b[0;34m)\u001b[0m \u001b[0;34m+\u001b[0m \u001b[0mindex_out\u001b[0m\u001b[0;34m]\u001b[0m\u001b[0;34m\u001b[0m\u001b[0;34m\u001b[0m\u001b[0m\n\u001b[1;32m   3822\u001b[0m \u001b[0;34m\u001b[0m\u001b[0m\n\u001b[0;32m-> 3823\u001b[0;31m     \u001b[0mr\u001b[0m \u001b[0;34m=\u001b[0m \u001b[0mfunc\u001b[0m\u001b[0;34m(\u001b[0m\u001b[0ma\u001b[0m\u001b[0;34m,\u001b[0m \u001b[0;34m**\u001b[0m\u001b[0mkwargs\u001b[0m\u001b[0;34m)\u001b[0m\u001b[0;34m\u001b[0m\u001b[0;34m\u001b[0m\u001b[0m\n\u001b[0m\u001b[1;32m   3824\u001b[0m \u001b[0;34m\u001b[0m\u001b[0m\n\u001b[1;32m   3825\u001b[0m     \u001b[0;32mif\u001b[0m \u001b[0mout\u001b[0m \u001b[0;32mis\u001b[0m \u001b[0;32mnot\u001b[0m \u001b[0;32mNone\u001b[0m\u001b[0;34m:\u001b[0m\u001b[0;34m\u001b[0m\u001b[0;34m\u001b[0m\u001b[0m\n",
            "\u001b[0;32m/usr/local/lib/python3.10/dist-packages/numpy/lib/function_base.py\u001b[0m in \u001b[0;36m_quantile_ureduce_func\u001b[0;34m(a, q, axis, out, overwrite_input, method)\u001b[0m\n\u001b[1;32m   4720\u001b[0m         \u001b[0;32melse\u001b[0m\u001b[0;34m:\u001b[0m\u001b[0;34m\u001b[0m\u001b[0;34m\u001b[0m\u001b[0m\n\u001b[1;32m   4721\u001b[0m             \u001b[0marr\u001b[0m \u001b[0;34m=\u001b[0m \u001b[0ma\u001b[0m\u001b[0;34m.\u001b[0m\u001b[0mcopy\u001b[0m\u001b[0;34m(\u001b[0m\u001b[0;34m)\u001b[0m\u001b[0;34m\u001b[0m\u001b[0;34m\u001b[0m\u001b[0m\n\u001b[0;32m-> 4722\u001b[0;31m     result = _quantile(arr,\n\u001b[0m\u001b[1;32m   4723\u001b[0m                        \u001b[0mquantiles\u001b[0m\u001b[0;34m=\u001b[0m\u001b[0mq\u001b[0m\u001b[0;34m,\u001b[0m\u001b[0;34m\u001b[0m\u001b[0;34m\u001b[0m\u001b[0m\n\u001b[1;32m   4724\u001b[0m                        \u001b[0maxis\u001b[0m\u001b[0;34m=\u001b[0m\u001b[0maxis\u001b[0m\u001b[0;34m,\u001b[0m\u001b[0;34m\u001b[0m\u001b[0;34m\u001b[0m\u001b[0m\n",
            "\u001b[0;32m/usr/local/lib/python3.10/dist-packages/numpy/lib/function_base.py\u001b[0m in \u001b[0;36m_quantile\u001b[0;34m(arr, quantiles, axis, method, out)\u001b[0m\n\u001b[1;32m   4839\u001b[0m         \u001b[0mresult_shape\u001b[0m \u001b[0;34m=\u001b[0m \u001b[0mvirtual_indexes\u001b[0m\u001b[0;34m.\u001b[0m\u001b[0mshape\u001b[0m \u001b[0;34m+\u001b[0m \u001b[0;34m(\u001b[0m\u001b[0;36m1\u001b[0m\u001b[0;34m,\u001b[0m\u001b[0;34m)\u001b[0m \u001b[0;34m*\u001b[0m \u001b[0;34m(\u001b[0m\u001b[0marr\u001b[0m\u001b[0;34m.\u001b[0m\u001b[0mndim\u001b[0m \u001b[0;34m-\u001b[0m \u001b[0;36m1\u001b[0m\u001b[0;34m)\u001b[0m\u001b[0;34m\u001b[0m\u001b[0;34m\u001b[0m\u001b[0m\n\u001b[1;32m   4840\u001b[0m         \u001b[0mgamma\u001b[0m \u001b[0;34m=\u001b[0m \u001b[0mgamma\u001b[0m\u001b[0;34m.\u001b[0m\u001b[0mreshape\u001b[0m\u001b[0;34m(\u001b[0m\u001b[0mresult_shape\u001b[0m\u001b[0;34m)\u001b[0m\u001b[0;34m\u001b[0m\u001b[0;34m\u001b[0m\u001b[0m\n\u001b[0;32m-> 4841\u001b[0;31m         result = _lerp(previous,\n\u001b[0m\u001b[1;32m   4842\u001b[0m                        \u001b[0mnext\u001b[0m\u001b[0;34m,\u001b[0m\u001b[0;34m\u001b[0m\u001b[0;34m\u001b[0m\u001b[0m\n\u001b[1;32m   4843\u001b[0m                        \u001b[0mgamma\u001b[0m\u001b[0;34m,\u001b[0m\u001b[0;34m\u001b[0m\u001b[0;34m\u001b[0m\u001b[0m\n",
            "\u001b[0;32m/usr/local/lib/python3.10/dist-packages/numpy/lib/function_base.py\u001b[0m in \u001b[0;36m_lerp\u001b[0;34m(a, b, t, out)\u001b[0m\n\u001b[1;32m   4653\u001b[0m         \u001b[0mOutput\u001b[0m \u001b[0marray\u001b[0m\u001b[0;34m.\u001b[0m\u001b[0;34m\u001b[0m\u001b[0;34m\u001b[0m\u001b[0m\n\u001b[1;32m   4654\u001b[0m     \"\"\"\n\u001b[0;32m-> 4655\u001b[0;31m     \u001b[0mdiff_b_a\u001b[0m \u001b[0;34m=\u001b[0m \u001b[0msubtract\u001b[0m\u001b[0;34m(\u001b[0m\u001b[0mb\u001b[0m\u001b[0;34m,\u001b[0m \u001b[0ma\u001b[0m\u001b[0;34m)\u001b[0m\u001b[0;34m\u001b[0m\u001b[0;34m\u001b[0m\u001b[0m\n\u001b[0m\u001b[1;32m   4656\u001b[0m     \u001b[0;31m# asanyarray is a stop-gap until gh-13105\u001b[0m\u001b[0;34m\u001b[0m\u001b[0;34m\u001b[0m\u001b[0m\n\u001b[1;32m   4657\u001b[0m     \u001b[0mlerp_interpolation\u001b[0m \u001b[0;34m=\u001b[0m \u001b[0masanyarray\u001b[0m\u001b[0;34m(\u001b[0m\u001b[0madd\u001b[0m\u001b[0;34m(\u001b[0m\u001b[0ma\u001b[0m\u001b[0;34m,\u001b[0m \u001b[0mdiff_b_a\u001b[0m \u001b[0;34m*\u001b[0m \u001b[0mt\u001b[0m\u001b[0;34m,\u001b[0m \u001b[0mout\u001b[0m\u001b[0;34m=\u001b[0m\u001b[0mout\u001b[0m\u001b[0;34m)\u001b[0m\u001b[0;34m)\u001b[0m\u001b[0;34m\u001b[0m\u001b[0;34m\u001b[0m\u001b[0m\n",
            "\u001b[0;31mUFuncTypeError\u001b[0m: ufunc 'subtract' did not contain a loop with signature matching types (dtype('<U11'), dtype('<U11')) -> None"
          ]
        }
      ]
    },
    {
      "cell_type": "code",
      "source": [
        "#removando os outliers\n",
        "df.dropna(inplace=True)\n",
        "df.shape"
      ],
      "metadata": {
        "id": "zos9RZ-QXL3u"
      },
      "execution_count": null,
      "outputs": []
    },
    {
      "cell_type": "code",
      "source": [
        "plt.figure(figsize=(6,6))\n",
        "sns.boxplot(data=df, y='Proficiência_Matemática', palette = 'ocean')\n",
        "plt.title(\"Distribuição de médias de proficiência em matemática (sem outliers)\", fontsize=14, weight = 'bold')\n",
        "plt.ylabel(\" \")\n",
        "plt.tight_layout()\n",
        "plt.show()"
      ],
      "metadata": {
        "id": "0bzclwOQXN6i"
      },
      "execution_count": null,
      "outputs": []
    },
    {
      "cell_type": "markdown",
      "source": [
        "###Tratamento das variáveis categóricas\n",
        "Que são maioria na nossa base de dados. Vamos substituir os valores das classes de cada coluna, caso a caso."
      ],
      "metadata": {
        "id": "8pL0LtUfHIg0"
      }
    },
    {
      "cell_type": "code",
      "source": [
        "df.columns"
      ],
      "metadata": {
        "id": "X0EgUJ9GXZqy"
      },
      "execution_count": null,
      "outputs": []
    },
    {
      "cell_type": "code",
      "source": [
        "df[['Área', 'Urbana ou rural?']] = df[['Área', 'Urbana ou rural?']].replace(2, 0)\n",
        "df['Gênero'] = df['Gênero'].replace({'A': 'Masculino', 'B':'Feminino'})\n",
        "df['Qual língua seus pais falam com mais frequência em casa?'] = df['Qual língua seus pais falam com mais frequência em casa?'].replace({'A':'Português', 'B':'Espanhol', 'C':'Outra'})\n",
        "df['Qual é a sua cor ou raça?'] = df['Qual é a sua cor ou raça?'].replace({'A': 'Branca', 'B':'Preta', 'C':'Parda', 'D':'Amarela', 'E':'Indígena', 'F':np.nan})\n",
        "df['Você possui algum tipo de necessidade especial?'] = df['Você possui algum tipo de necessidade especial?'].replace({'A':'Sim', 'B':'Não'})\n",
        "df[['Escolaridade da mãe (ou mulher responsável)',\n",
        "    'Escolaridade do pai (ou homem responsável)']] = df[['Escolaridade da mãe (ou mulher responsável)',\n",
        "    'Escolaridade do pai (ou homem responsável)']].replace({'A': np.nan, 'B': np.nan, 'C': 'EF completo', 'D': 'EM completo', 'E': 'ES completo', 'F':np.nan})\n",
        "df[['Seus pais costumam incentivar você a estudar?', 'Seus pais costumam incentivar você a fazer a tarefa de casa?']] = df[['Seus pais costumam incentivar você a estudar?', 'Seus pais costumam incentivar você a fazer a tarefa de casa?']].replace({'A': 'Não', 'B':'Não', 'C': 'Sim'})\n",
        "df['Na sua casa tem rede Wi-Fi?'] = df['Na sua casa tem rede Wi-Fi?'].replace({'A':'Não', 'B':'Sim'})\n",
        "df['Você já foi reprovado(a)?'] = df['Você já foi reprovado(a)?'].replace({'A':'Não', 'B':'Sim', 'C':'Sim'})\n",
        "df['Quanto tempo você usa para estudar?'] = df['Quanto tempo você usa para estudar?'].replace({'A':'Nenhum', 'B':'Menos de 1 hora', 'C': 'Mais de 1 hora', 'D': 'Mais de 1 hora'})\n"
      ],
      "metadata": {
        "id": "51D1QAySXbEO"
      },
      "execution_count": null,
      "outputs": []
    },
    {
      "cell_type": "code",
      "source": [
        "#Excluindo os novos valores nulos\n",
        "df.dropna(inplace=True)"
      ],
      "metadata": {
        "id": "s7Zx478SXdSN"
      },
      "execution_count": null,
      "outputs": []
    },
    {
      "cell_type": "code",
      "source": [
        "display(df.shape)\n",
        "display(df.head())\n",
        "display(df.tail())"
      ],
      "metadata": {
        "id": "MDJy1wcFXiZf"
      },
      "execution_count": null,
      "outputs": []
    },
    {
      "cell_type": "code",
      "source": [
        "encoder = OneHotEncoder(sparse_output=False, dtype=int)  # sparse_output=False para obter um array numpy denso\n",
        "\n",
        "one_hot_encoded = encoder.fit_transform(df[['Gênero', 'Qual língua seus pais falam com mais frequência em casa?', 'Qual é a sua cor ou raça?',\n",
        "       'Você possui algum tipo de necessidade especial?','Escolaridade da mãe (ou mulher responsável)',\n",
        "       'Escolaridade do pai (ou homem responsável)',\n",
        "       'Seus pais costumam incentivar você a estudar?',\n",
        "       'Seus pais costumam incentivar você a fazer a tarefa de casa?',\n",
        "       'Na sua casa tem rede Wi-Fi?', 'Você já foi reprovado(a)?', 'Quanto tempo você usa para estudar?']])\n",
        "\n",
        "# Convertendo o array numpy de volta para um DataFrame do pandas\n",
        "df_encoded = pd.DataFrame(one_hot_encoded, columns=encoder.get_feature_names_out(['Gênero', 'Qual língua seus pais falam com mais frequência em casa?', 'Qual é a sua cor ou raça?',\n",
        "       'Você possui algum tipo de necessidade especial?','Escolaridade da mãe (ou mulher responsável)',\n",
        "       'Escolaridade do pai (ou homem responsável)',\n",
        "       'Seus pais costumam incentivar você a estudar?',\n",
        "       'Seus pais costumam incentivar você a fazer a tarefa de casa?',\n",
        "       'Na sua casa tem rede Wi-Fi?', 'Você já foi reprovado(a)?',\n",
        "       'Quanto tempo você usa para estudar?']))\n",
        "df_encoded\n"
      ],
      "metadata": {
        "id": "zw3rEkw8YxU5"
      },
      "execution_count": null,
      "outputs": []
    },
    {
      "cell_type": "code",
      "source": [
        "df_temp = df.drop(columns=['Gênero', 'Qual língua seus pais falam com mais frequência em casa?', 'Qual é a sua cor ou raça?',\n",
        "       'Você possui algum tipo de necessidade especial?','Escolaridade da mãe (ou mulher responsável)',\n",
        "       'Escolaridade do pai (ou homem responsável)',\n",
        "       'Seus pais costumam incentivar você a estudar?',\n",
        "       'Seus pais costumam incentivar você a fazer a tarefa de casa?',\n",
        "       'Na sua casa tem rede Wi-Fi?', 'Você já foi reprovado(a)?',\n",
        "       'Quanto tempo você usa para estudar?'])\n",
        "df_encoded = df_encoded.reset_index(drop=True)\n",
        "df_temp = df_temp.reset_index(drop=True)\n",
        "df_concatenado = pd.concat([df_temp, df_encoded], axis=1)\n",
        "df_concatenado.head()"
      ],
      "metadata": {
        "id": "FUemNeZWY2DB"
      },
      "execution_count": null,
      "outputs": []
    },
    {
      "cell_type": "code",
      "source": [
        "df_final = df_concatenado.drop(columns=['Gênero_Masculino', 'Você possui algum tipo de necessidade especial?_Não','Seus pais costumam incentivar você a estudar?_Não',\n",
        "                             'Seus pais costumam incentivar você a fazer a tarefa de casa?_Não','Você já foi reprovado(a)?_Não',\n",
        "                                        'Na sua casa tem rede Wi-Fi?_Não'])\n",
        "df_final.head()"
      ],
      "metadata": {
        "id": "HhoaGkuKY4pk"
      },
      "execution_count": null,
      "outputs": []
    },
    {
      "cell_type": "markdown",
      "source": [
        "### Gerando a variável target\n",
        "que traz a seguinte informação:  se o aluno apresenta proficiência em matemática acima ou igual à média, é classificado como 1. Se não, é classificado como 0."
      ],
      "metadata": {
        "id": "Mk2ylGiC9rTK"
      }
    },
    {
      "cell_type": "code",
      "source": [
        "media_matematica = df['Proficiência_Matemática'].mean()\n",
        "df['target'] = df['Proficiência_Matemática'].apply(lambda x: 1 if x >= media_matematica else 0)\n",
        "df.drop(columns='Proficiência_Matemática', inplace=True)\n",
        "df.head()\n"
      ],
      "metadata": {
        "collapsed": true,
        "id": "bqr5cYxg2l14"
      },
      "execution_count": null,
      "outputs": []
    },
    {
      "cell_type": "code",
      "source": [
        "#Verificando a proporção da variável target\n",
        "\n",
        "sns.countplot(x='target', data=df, palette='magma')\n",
        "plt.show()"
      ],
      "metadata": {
        "id": "igZTxjBjYQUd"
      },
      "execution_count": null,
      "outputs": []
    },
    {
      "cell_type": "markdown",
      "source": [
        "Como podemos obervar pelo gráfico, as classes da variável target estão balanceadas, não havendo grande diferença na quantidade delas. Portanto, não precisaremos fazer nenhum ajuste de balanceamento ao aplicarmos o modelo de regressã logística."
      ],
      "metadata": {
        "id": "QQRdoXRrJGMS"
      }
    },
    {
      "cell_type": "markdown",
      "source": [
        "###Conferindo a proporção das classes em cada variável para ter uma ideia do quanto estão balanceadas."
      ],
      "metadata": {
        "id": "m5Jm0g45HAix"
      }
    },
    {
      "cell_type": "code",
      "source": [
        "variaveis_categoricas = df_final.select_dtypes(['int'])\n",
        "#for col in df_final.columns:\n",
        "  #display(df_final[col].value_counts(normalize=True))\n",
        "for col in variaveis_categoricas:\n",
        "  sns.countplot(data=variaveis_categoricas, x=col, palette='ocean')\n",
        "  plt.title(f\"Distribuição - {col}\", fontsize = 14)\n",
        "  plt.xlabel(\"\")\n",
        "  plt.ylabel(\"\")\n",
        "  plt.tight_layout()\n",
        "  plt.show()"
      ],
      "metadata": {
        "id": "29t42vUzY_hY"
      },
      "execution_count": null,
      "outputs": []
    },
    {
      "cell_type": "markdown",
      "source": [
        "### **Modelo 1:** Modelo\n"
      ],
      "metadata": {
        "id": "VyE3YKdQotLc"
      }
    },
    {
      "cell_type": "code",
      "source": [
        "#Aplicando o modelo de regressão logistica\n",
        "\n",
        "X = df_final.drop(columns = 'target')\n",
        "y = df_final.target\n",
        "\n",
        "#Separando 30% dos dados para teste e 70% para treino\n",
        "X_train, X_test, y_train, y_test = train_test_split(X, y, stratify=y, shuffle=True, test_size=0.3, random_state=90)\n",
        "\n",
        "clf = LogisticRegression(max_iter=500)\n",
        "\n",
        "#Ajustando o modelo aos dados\n",
        "clf.fit(X_train, y_train)\n",
        "\n",
        "#Fazendo predições\n",
        "y_pred = clf.predict(X_test)"
      ],
      "metadata": {
        "id": "a5YneTsaotLc"
      },
      "execution_count": null,
      "outputs": []
    },
    {
      "cell_type": "markdown",
      "source": [
        "### **Modelo 1:** Resultados\n"
      ],
      "metadata": {
        "id": "SRw3t2NnotVI"
      }
    },
    {
      "cell_type": "code",
      "source": [
        "cm = confusion_matrix(y_test, y_pred)\n",
        "sns.heatmap(data=cm, annot = True)\n",
        "plt.show()"
      ],
      "metadata": {
        "id": "kvwQvGDOotVI"
      },
      "execution_count": null,
      "outputs": []
    },
    {
      "cell_type": "code",
      "source": [
        "acuracia = accuracy_score(y_test, y_pred)\n",
        "relatorio = classification_report(y_test, y_pred)\n",
        "print(acuracia)\n",
        "print(relatorio)"
      ],
      "metadata": {
        "id": "Qvfs3OaEZOOs"
      },
      "execution_count": null,
      "outputs": []
    },
    {
      "cell_type": "code",
      "source": [
        "#Decidimos testar o modelo considerando apenas as variáveis cujas classes não apresentam proporções muito discrepantes.\n",
        "\n",
        "X1 = df_final[['Gênero_Feminino','Qual é a sua cor ou raça?_Branca', 'Qual é a sua cor ou raça?_Parda','Escolaridade da mãe (ou mulher responsável)_EF completo',\n",
        "                             'Escolaridade da mãe (ou mulher responsável)_EM completo', 'Escolaridade da mãe (ou mulher responsável)_ES completo',\n",
        "                             'Escolaridade do pai (ou homem responsável)_EF completo',\n",
        "                             'Escolaridade do pai (ou homem responsável)_EM completo',\n",
        "                             'Escolaridade do pai (ou homem responsável)_ES completo', 'Quanto tempo você usa para estudar?_Mais de 1 hora',\n",
        "'Quanto tempo você usa para estudar?_Menos de 1 hora']]\n",
        "y1 = df_final.target\n",
        "\n",
        "X1_train, X1_test, y1_train, y1_test = train_test_split(X1, y1, stratify=y1, shuffle=True, test_size=0.3, random_state=90)\n",
        "\n",
        "clf = LogisticRegression()\n",
        "\n",
        "clf.fit(X1_train, y1_train)\n",
        "\n",
        "y1_pred = clf.predict(X1_test)"
      ],
      "metadata": {
        "id": "uzgTr31HZlmv"
      },
      "execution_count": null,
      "outputs": []
    },
    {
      "cell_type": "code",
      "source": [
        "cm = confusion_matrix(y1_test, y1_pred)\n",
        "sns.heatmap(data=cm, annot = True)\n",
        "plt.show()"
      ],
      "metadata": {
        "id": "HsVWdijoZoeY"
      },
      "execution_count": null,
      "outputs": []
    },
    {
      "cell_type": "code",
      "source": [
        "acuracia = accuracy_score(y1_test, y1_pred)\n",
        "relatorio = classification_report(y1_test, y1_pred)\n",
        "print(acuracia)\n",
        "print(relatorio)"
      ],
      "metadata": {
        "id": "pzyRGwzXZtK3"
      },
      "execution_count": null,
      "outputs": []
    },
    {
      "cell_type": "markdown",
      "source": [
        "## **Modelo 2**\n",
        "\n",
        "*Descreva resumidamente o modelo empregado.*\n"
      ],
      "metadata": {
        "id": "n6sOVE9jo_jq"
      }
    },
    {
      "cell_type": "markdown",
      "source": [
        "### **Modelo 2:** Preparação dos Dados\n"
      ],
      "metadata": {
        "id": "lBW3929po_jr"
      }
    },
    {
      "cell_type": "code",
      "source": [
        "# seu código"
      ],
      "metadata": {
        "id": "VfJUfM16o_jr"
      },
      "execution_count": null,
      "outputs": []
    },
    {
      "cell_type": "markdown",
      "source": [
        "### **Modelo 2:** Modelo\n"
      ],
      "metadata": {
        "id": "z60H0esCo_jr"
      }
    },
    {
      "cell_type": "code",
      "source": [
        "X = df_final.drop(columns='target')\n",
        "y = df_final.target\n",
        "\n",
        "X_train, X_test, y_train, y_test = train_test_split(X, y, stratify=y, test_size=0.3, random_state=90)\n",
        "\n",
        "clf = DecisionTreeClassifier(criterion='entropy',max_depth=10)\n",
        "\n",
        "clf.fit(X_train,y_train)\n",
        "\n",
        "y_pred = clf.predict(X_test)\n",
        "\n",
        "accuracy = clf.score(X_test, y_test)\n",
        "print('\\nScore de Acuracidade (2):\\n')\n",
        "print(f'{accuracy:.2f}')\n",
        "\n",
        "print('\\nClassification Report:\\n')\n",
        "print(classification_report(y_test, y_pred))"
      ],
      "metadata": {
        "id": "GzbajY4fo_jr"
      },
      "execution_count": null,
      "outputs": []
    },
    {
      "cell_type": "code",
      "source": [
        "X = df_final[['Gênero_Feminino','Qual é a sua cor ou raça?_Branca', 'Qual é a sua cor ou raça?_Parda','Escolaridade da mãe (ou mulher responsável)_EF completo',\n",
        "                             'Escolaridade da mãe (ou mulher responsável)_EM completo', 'Escolaridade da mãe (ou mulher responsável)_ES completo',\n",
        "                             'Escolaridade do pai (ou homem responsável)_EF completo',\n",
        "                             'Escolaridade do pai (ou homem responsável)_EM completo',\n",
        "                             'Escolaridade do pai (ou homem responsável)_ES completo', 'Quanto tempo você usa para estudar?_Mais de 1 hora',\n",
        "'Quanto tempo você usa para estudar?_Menos de 1 hora']]\n",
        "y = df_final.target\n",
        "\n",
        "X_train, X_test, y_train, y_test = train_test_split(X, y, stratify=y, test_size=0.3, random_state=90)\n",
        "\n",
        "clf = DecisionTreeClassifier(criterion='entropy',max_depth=10)\n",
        "\n",
        "clf.fit(X_train,y_train)\n",
        "\n",
        "y_pred = clf.predict(X_test)\n",
        "\n",
        "accuracy = clf.score(X_test, y_test)\n",
        "print('\\nScore de Acuracidade (2):\\n')\n",
        "print(f'{accuracy:.2f}')\n",
        "\n",
        "print('\\nClassification Report:\\n')\n",
        "print(classification_report(y_test, y_pred))"
      ],
      "metadata": {
        "id": "q8gfEI7VaAYj"
      },
      "execution_count": null,
      "outputs": []
    },
    {
      "cell_type": "markdown",
      "source": [
        "### **Modelo 2:** Resultados\n"
      ],
      "metadata": {
        "id": "f66UTm3So_js"
      }
    },
    {
      "cell_type": "code",
      "source": [
        "# seu código"
      ],
      "metadata": {
        "id": "PJGbWBofo_jt"
      },
      "execution_count": null,
      "outputs": []
    },
    {
      "cell_type": "markdown",
      "metadata": {
        "id": "9kwoGZeSLRsX"
      },
      "source": [
        "# **Conclusão**\n",
        "\n",
        "*Embora o desempenho do modelo tenha sido pior no segundo caso de regressão logistica, as variáveis utilizadas parecem ser mais adequadas por explicarem um pouco mais a variável dependente. Concluímos que o modelo de regressão logística não é uma boa opção para este caso e que as variável, no geral, não explicam bem a variável target.*\n",
        "\n"
      ]
    },
    {
      "cell_type": "markdown",
      "source": [
        "# **Referências**\n",
        "\n",
        "*Indique as referências empregadas, incluindo as fontes de dados.*"
      ],
      "metadata": {
        "id": "hc0rg9YSzRz9"
      }
    },
    {
      "cell_type": "markdown",
      "metadata": {
        "id": "8crUBC3IQ3U_"
      },
      "source": [
        "---"
      ]
    },
    {
      "cell_type": "code",
      "metadata": {
        "id": "BluFtfHuCGzm",
        "cellView": "form"
      },
      "source": [
        "#@title Avaliação\n",
        "Completo = 10 #@param {type:\"slider\", min:0, max:10, step:1}\n",
        "#@markdown Projeto cumpre todos os itens pedidos.\n",
        "Relevancia = 9 #@param {type:\"slider\", min:0, max:10, step:1}\n",
        "#@markdown As seleções de dados e eventos para análise são relevantes e justificados.\n",
        "Tecnicas = 6 #@param {type:\"slider\", min:0, max:10, step:1}\n",
        "#@markdown As técnicas de empregadas são adequadas e corretamente aplicadas.\n",
        "Apresentacao = 7 #@param {type:\"slider\", min:0, max:10, step:1}\n",
        "#@markdown A apresentação dos resultados é clara e objetiva.\n",
        "Analise = 8 #@param {type:\"slider\", min:0, max:10, step:1}\n",
        "#@markdown As premissas de análise se justificam e a analise é correta.\n",
        "Conclusao = 7 #@param {type:\"slider\", min:0, max:10, step:1}\n",
        "#@markdown As conclusões são justificadas e relevantes\n",
        "Bonus = 0.5 #@param {type:\"slider\", min:0, max:1, step:0.5}\n",
        "#@markdown A critério do professor por inovações na abordagem e no uso de técnicas de Análise de Dados\n",
        "\n",
        "\n",
        "\n",
        "\n",
        "\n",
        "\n"
      ],
      "execution_count": null,
      "outputs": []
    },
    {
      "cell_type": "code",
      "metadata": {
        "id": "2Gqw7hUZHyle",
        "cellView": "form"
      },
      "source": [
        "#@markdown ### Nota Final\n",
        "nota = Completo + Relevancia + Tecnicas + Apresentacao + Analise + Conclusao\n",
        "\n",
        "nota = nota / 6 + Bonus\n",
        "\n",
        "print(f'Nota final do trabalho {nota :.1f}')\n",
        "\n",
        "import numpy as np\n",
        "import pandas as pd\n",
        "\n",
        "alunos = pd.DataFrame()\n",
        "\n",
        "lista_tia = []\n",
        "lista_nome = []\n",
        "\n",
        "for i in range(1,6):\n",
        "  exec(\"if Aluno\" + str(i) + \" !='None':  lista = Aluno\" + str(i) + \".split(','); lista_tia.append(lista[0]); lista_nome.append(lista[1].upper())\")\n",
        "\n",
        "alunos['tia'] = lista_tia\n",
        "alunos['nome'] = lista_nome\n",
        "alunos['nota'] = np.round(nota,1)\n",
        "print()\n",
        "alunos"
      ],
      "execution_count": null,
      "outputs": []
    }
  ]
}